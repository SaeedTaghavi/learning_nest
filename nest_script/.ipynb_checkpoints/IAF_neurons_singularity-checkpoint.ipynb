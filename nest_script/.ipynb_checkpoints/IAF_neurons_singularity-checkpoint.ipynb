{
 "cells": [
  {
   "cell_type": "markdown",
   "metadata": {},
   "source": [
    "# IAF neurons singularity\n",
    "\n",
    "This notebook describes how NEST handles the singularities appearing in the ODE's of integrate-and-fire model neurons with alpha- or exponentially-shaped current, when the membrane and the synaptic time-constants are identical.\n"
   ]
  },
  {
   "cell_type": "code",
   "execution_count": 1,
   "metadata": {},
   "outputs": [],
   "source": [
    "import sympy as sp\n",
    "sp.init_printing(use_latex=True)\n",
    "from sympy.matrices import zeros\n",
    "tau_m, tau_s, C, h = sp.symbols('tau_m, tau_s, C, h')"
   ]
  },
  {
   "cell_type": "markdown",
   "metadata": {},
   "source": [
    "For alpha-shaped currents we have:"
   ]
  },
  {
   "cell_type": "code",
   "execution_count": 2,
   "metadata": {},
   "outputs": [],
   "source": [
    "A = sp.Matrix([[-1/tau_s,0,0],[1,-1/tau_s,0],[0,1/C,-1/tau_m]])"
   ]
  },
  {
   "cell_type": "markdown",
   "metadata": {},
   "source": [
    "## Non-singular case ($\\tau_m\\neq \\tau_s$) \n",
    "The propagator is: "
   ]
  },
  {
   "cell_type": "code",
   "execution_count": 3,
   "metadata": {},
   "outputs": [
    {
     "data": {
      "image/png": "[encoded data removed]",
      "text/latex": [
       "$$\\left[\\begin{matrix}e^{- \\frac{h}{\\tau_{s}}} & 0 & 0\\\\h e^{- \\frac{h}{\\tau_{s}}} & e^{- \\frac{h}{\\tau_{s}}} & 0\\\\- \\frac{\\tau_{m} \\tau_{s} e^{- \\frac{h}{\\tau_{s}} - \\frac{h}{\\tau_{m}}}}{C \\left(\\tau_{m}^{2} - 2 \\tau_{m} \\tau_{s} + \\tau_{s}^{2}\\right)} \\left(h \\tau_{m} e^{\\frac{h}{\\tau_{m}}} - h \\tau_{s} e^{\\frac{h}{\\tau_{m}}} + \\tau_{m} \\tau_{s} e^{\\frac{h}{\\tau_{m}}} - \\tau_{m} \\tau_{s} e^{\\frac{h}{\\tau_{s}}}\\right) & - \\frac{\\tau_{m} \\tau_{s} e^{- \\frac{h}{\\tau_{s}} - \\frac{h}{\\tau_{m}}}}{C \\left(\\tau_{m} - \\tau_{s}\\right)} \\left(e^{\\frac{h}{\\tau_{m}}} - e^{\\frac{h}{\\tau_{s}}}\\right) & e^{- \\frac{h}{\\tau_{m}}}\\end{matrix}\\right]$$"
      ],
      "text/plain": [
       "⎡                                      -h                                     \n",
       "⎢                                      ───                                    \n",
       "⎢                                      τ_s                                    \n",
       "⎢                                     ℯ                                       \n",
       "⎢                                                                             \n",
       "⎢                                       -h                                    \n",
       "⎢                                       ───                                   \n",
       "⎢                                       τ_s                                   \n",
       "⎢                                    h⋅ℯ                                      \n",
       "⎢                                                                             \n",
       "⎢         ⎛        h            h              h              h ⎞     h     h \n",
       "⎢         ⎜       ───          ───            ───            ───⎟  - ─── - ───\n",
       "⎢         ⎜       τ_m          τ_m            τ_m            τ_s⎟    τ_s   τ_m\n",
       "⎢-τ_m⋅τ_s⋅⎝h⋅τ_m⋅ℯ    - h⋅τ_s⋅ℯ    + τ_m⋅τ_s⋅ℯ    - τ_m⋅τ_s⋅ℯ   ⎠⋅ℯ           \n",
       "⎢─────────────────────────────────────────────────────────────────────────────\n",
       "⎢                           ⎛   2                  2⎞                         \n",
       "⎣                         C⋅⎝τ_m  - 2⋅τ_m⋅τ_s + τ_s ⎠                         \n",
       "\n",
       "                                             ⎤\n",
       "                                             ⎥\n",
       "                                             ⎥\n",
       "                    0                     0  ⎥\n",
       "                                             ⎥\n",
       "                    -h                       ⎥\n",
       "                    ───                      ⎥\n",
       "                    τ_s                      ⎥\n",
       "                   ℯ                      0  ⎥\n",
       "                                             ⎥\n",
       "            ⎛  h      h ⎞     h     h        ⎥\n",
       "            ⎜ ───    ───⎟  - ─── - ───    -h ⎥\n",
       "            ⎜ τ_m    τ_s⎟    τ_s   τ_m    ───⎥\n",
       "   -τ_m⋅τ_s⋅⎝ℯ    - ℯ   ⎠⋅ℯ               τ_m⎥\n",
       "─  ────────────────────────────────────  ℯ   ⎥\n",
       "              C⋅(τ_m - τ_s)                  ⎥\n",
       "                                             ⎦"
      ]
     },
     "execution_count": 3,
     "metadata": {},
     "output_type": "execute_result"
    }
   ],
   "source": [
    "PA = sp.simplify(sp.exp(A*h))\n",
    "PA"
   ]
  },
  {
   "cell_type": "markdown",
   "metadata": {},
   "source": [
    "Note that the entry in the third line and the second column $A_{32}$ would also appear in the propagator matrix in case of an exponentially shaped current"
   ]
  },
  {
   "cell_type": "markdown",
   "metadata": {},
   "source": [
    "## Singular case ($\\tau_m = \\tau_s$) \n",
    "We have"
   ]
  },
  {
   "cell_type": "code",
   "execution_count": 4,
   "metadata": {},
   "outputs": [
    {
     "data": {
      "image/png": "[encoded data removed]",
      "text/latex": [
       "$$\\left[\\begin{matrix}- \\frac{1}{\\tau_{m}} & 0 & 0\\\\1 & - \\frac{1}{\\tau_{m}} & 0\\\\0 & \\frac{1}{C} & - \\frac{1}{\\tau_{m}}\\end{matrix}\\right]$$"
      ],
      "text/plain": [
       "⎡-1           ⎤\n",
       "⎢───   0    0 ⎥\n",
       "⎢τ_m          ⎥\n",
       "⎢             ⎥\n",
       "⎢     -1      ⎥\n",
       "⎢ 1   ───   0 ⎥\n",
       "⎢     τ_m     ⎥\n",
       "⎢             ⎥\n",
       "⎢      1   -1 ⎥\n",
       "⎢ 0    ─   ───⎥\n",
       "⎣      C   τ_m⎦"
      ]
     },
     "execution_count": 4,
     "metadata": {},
     "output_type": "execute_result"
    }
   ],
   "source": [
    "As = sp.Matrix([[-1/tau_m,0,0],[1,-1/tau_m,0],[0,1/C,-1/tau_m]])\n",
    "As"
   ]
  },
  {
   "cell_type": "markdown",
   "metadata": {},
   "source": [
    "The propagator is"
   ]
  },
  {
   "cell_type": "code",
   "execution_count": 5,
   "metadata": {},
   "outputs": [
    {
     "data": {
      "image/png": "[encoded data removed]",
      "text/latex": [
       "$$\\left[\\begin{matrix}e^{- \\frac{h}{\\tau_{m}}} & 0 & 0\\\\h e^{- \\frac{h}{\\tau_{m}}} & e^{- \\frac{h}{\\tau_{m}}} & 0\\\\\\frac{h^{2} e^{- \\frac{h}{\\tau_{m}}}}{2 C} & \\frac{h}{C} e^{- \\frac{h}{\\tau_{m}}} & e^{- \\frac{h}{\\tau_{m}}}\\end{matrix}\\right]$$"
      ],
      "text/plain": [
       "⎡  -h                 ⎤\n",
       "⎢  ───                ⎥\n",
       "⎢  τ_m                ⎥\n",
       "⎢ ℯ         0      0  ⎥\n",
       "⎢                     ⎥\n",
       "⎢   -h      -h        ⎥\n",
       "⎢   ───     ───       ⎥\n",
       "⎢   τ_m     τ_m       ⎥\n",
       "⎢h⋅ℯ       ℯ       0  ⎥\n",
       "⎢                     ⎥\n",
       "⎢    -h      -h       ⎥\n",
       "⎢    ───     ───   -h ⎥\n",
       "⎢ 2  τ_m     τ_m   ───⎥\n",
       "⎢h ⋅ℯ     h⋅ℯ      τ_m⎥\n",
       "⎢───────  ──────  ℯ   ⎥\n",
       "⎣  2⋅C      C         ⎦"
      ]
     },
     "execution_count": 5,
     "metadata": {},
     "output_type": "execute_result"
    }
   ],
   "source": [
    "PAs = sp.simplify(sp.exp(As*h))\n",
    "PAs"
   ]
  },
  {
   "cell_type": "markdown",
   "metadata": {},
   "source": [
    "## Numeric stability of propagator elements\n",
    "For the limes $ \\tau_s\\rightarrow\\tau_m $ the entry $PA_{32}$ becomes numerically unstable, since denominator and enumerator go to zero.\n",
    "\n",
    "$1.$ We show that $PAs_{32}$ is the limit of $PA_{32}(\\tau_s)$ for $\\tau_s\\rightarrow\\tau_m$.:"
   ]
  },
  {
   "cell_type": "code",
   "execution_count": 6,
   "metadata": {},
   "outputs": [
    {
     "data": {
      "image/png": "[encoded data removed]",
      "text/latex": [
       "$$\\frac{h}{C} e^{- \\frac{h}{\\tau_{m}}}$$"
      ],
      "text/plain": [
       "   -h \n",
       "   ───\n",
       "   τ_m\n",
       "h⋅ℯ   \n",
       "──────\n",
       "  C   "
      ]
     },
     "execution_count": 6,
     "metadata": {},
     "output_type": "execute_result"
    }
   ],
   "source": [
    "PA_32 = PA.row(2).col(1)[0]\n",
    "sp.limit(PA_32, tau_s, tau_m)"
   ]
  },
  {
   "cell_type": "markdown",
   "metadata": {},
   "source": [
    "$2.$ The Taylor-series up to the second order of the function $PA_{32}(\\tau_s)$ is:"
   ]
  },
  {
   "cell_type": "code",
   "execution_count": 7,
   "metadata": {},
   "outputs": [
    {
     "data": {
      "image/png": "[encoded data removed]",
      "text/latex": [
       "$$\\frac{h}{C} e^{- \\frac{h}{\\tau_{m}}} + \\frac{h^{2} e^{- \\frac{h}{\\tau_{m}}}}{2 C \\tau_{m}^{2}} \\left(- \\tau_{m} + \\tau_{s}\\right) + \\mathcal{O}\\left(\\left(- \\tau_{m} + \\tau_{s}\\right)^{2}; \\tau_{s}\\rightarrow\\tau_{m}\\right)$$"
      ],
      "text/plain": [
       "   -h                     -h                               \n",
       "   ───                    ───                              \n",
       "   τ_m    2               τ_m                              \n",
       "h⋅ℯ      h ⋅(-τ_m + τ_s)⋅ℯ       ⎛            2           ⎞\n",
       "────── + ──────────────────── + O⎝(-τ_m + τ_s) ; τ_s → τ_m⎠\n",
       "  C                   2                                    \n",
       "               2⋅C⋅τ_m                                     "
      ]
     },
     "execution_count": 7,
     "metadata": {},
     "output_type": "execute_result"
    }
   ],
   "source": [
    "PA_32_series = PA_32.series(x=tau_s,x0=tau_m,n=2)\n",
    "PA_32_series "
   ]
  },
  {
   "cell_type": "markdown",
   "metadata": {},
   "source": [
    "Therefore we have \n",
    " \n",
    "$T(PA_{32}(\\tau_s,\\tau_m))=PAs_{32}+PA_{32}^{lin}+O(2)$ where $PA_{32}^{lin}=h^2(-\\tau_m + \\tau_s)*exp(-h/\\tau_m)/(2C\\tau_m^2)$\n",
    " \n",
    "$3.$ We define\n",
    "\n",
    "$dev:=|PA_{32}-PAs_{32}|$\n",
    " \n",
    "We also define $PA_{32}^{real}$ which is the correct value of P32 without misscalculation (instability).\n",
    " \n",
    "In the following we assume $0<|\\tau_s-\\tau_m|<0.1$. We consider two different cases\n",
    " \n",
    "a) When $dev \\geq 2|PA_{32}^{lin}|$ we do not trust the numeric evaluation of $PA_{32}$, since it strongly deviates from the first order correction. In this case the error we make is\n",
    " \n",
    "$|PAs_{32}-PA_{32}^{real}|\\approx |P_{32}^{lin}|$\n",
    "        \n",
    "b) When $dev \\le |2PA_{32}^{lin}|$ we trust the numeric evaluation of $PA_{32}$. In this case the maximal error occurs when $dev\\approx 2 PA_{32}^{lin}$ due to numeric instabilities. The order of the error is again\n",
    "\n",
    "$|PAs_{32}-PA_{32}^{real}|\\approx |P_{32}^{lin}|$"
   ]
  },
  {
   "cell_type": "markdown",
   "metadata": {},
   "source": [
    "The entry $A_{31}$ is numerically unstable, too and we treat it analogously."
   ]
  },
  {
   "cell_type": "markdown",
   "metadata": {},
   "source": [
    "## Tests and examples\n",
    "We will now show that the stability criterion explained above leads to a reasonable behavior for $\\tau_s\\rightarrow\\tau_m$"
   ]
  },
  {
   "cell_type": "code",
   "execution_count": 1,
   "metadata": {},
   "outputs": [],
   "source": [
    "import nest\n",
    "import numpy as np\n",
    "import pylab as pl"
   ]
  },
  {
   "cell_type": "markdown",
   "metadata": {},
   "source": [
    "Neuron, simulation and plotting parameters"
   ]
  },
  {
   "cell_type": "code",
   "execution_count": 2,
   "metadata": {},
   "outputs": [
    {
     "data": {
      "text/plain": [
       "<matplotlib.figure.Figure at 0x7fafe48cbc50>"
      ]
     },
     "metadata": {},
     "output_type": "display_data"
    }
   ],
   "source": [
    "taum = 10.\n",
    "C_m = 250.\n",
    "# array of distances between tau_m and tau_ex\n",
    "epsilon_array = np.hstack(([0.],10.**(np.arange(-6.,1.,1.))))[::-1]\n",
    "dt = 0.1\n",
    "fig = pl.figure(1)\n",
    "NUM_COLORS = len(epsilon_array)\n",
    "cmap = pl.get_cmap('gist_ncar')\n",
    "maxVs = []"
   ]
  },
  {
   "cell_type": "markdown",
   "metadata": {},
   "source": [
    "Loop through epsilon array"
   ]
  },
  {
   "cell_type": "code",
   "execution_count": 3,
   "metadata": {},
   "outputs": [
    {
     "data": {
      "text/plain": [
       "Text(0,0.5,u'voltage V (mV)')"
      ]
     },
     "execution_count": 3,
     "metadata": {},
     "output_type": "execute_result"
    },
    {
     "data": {
      "image/png": "[encoded data removed]",
      "text/plain": [
       "<matplotlib.figure.Figure at 0x7fafe2893610>"
      ]
     },
     "metadata": {},
     "output_type": "display_data"
    }
   ],
   "source": [
    "for i,epsilon in enumerate(epsilon_array):\n",
    "    nest.ResetKernel() # reset simulation kernel \n",
    "    nest.SetKernelStatus({'resolution':dt})\n",
    "\n",
    "    # Current based alpha neuron \n",
    "    neuron = nest.Create('iaf_psc_alpha') \n",
    "    nest.SetStatus(neuron,{'C_m':C_m,'tau_m':taum,'t_ref':0.,'V_reset':-70.,'V_th':1e32,\n",
    "                           'tau_syn_ex':taum+epsilon,'tau_syn_in':taum+epsilon,'I_e':0.})\n",
    "   \n",
    "    # create a spike generator\n",
    "    spikegenerator_ex=nest.Create('spike_generator')\n",
    "    nest.SetStatus(spikegenerator_ex,{'spike_times': [50.]})\n",
    "    \n",
    "    # create a voltmeter\n",
    "    vm = nest.Create('voltmeter',params={'interval':dt})\n",
    "\n",
    "    ## connect spike generator and voltmeter to the neuron\n",
    "\n",
    "    nest.Connect(spikegenerator_ex, neuron,'all_to_all',{'weight':100.})\n",
    "    nest.Connect(vm, neuron)\n",
    "\n",
    "    # run simulation for 200ms\n",
    "    nest.Simulate(200.) \n",
    "\n",
    "    # read out recording time and voltage from voltmeter\n",
    "    times=nest.GetStatus(vm)[0]['events']['times']\n",
    "    voltage=nest.GetStatus(vm)[0]['events']['V_m']\n",
    "    \n",
    "    # store maximum value of voltage trace in array\n",
    "    maxVs.append(np.max(voltage))\n",
    "\n",
    "    # plot voltage trace\n",
    "    if epsilon == 0.:\n",
    "        pl.plot(times,voltage,'--',color='black',label='singular')\n",
    "    else:\n",
    "        pl.plot(times,voltage,color = cmap(1.*i/NUM_COLORS),label=str(epsilon))\n",
    "\n",
    "pl.legend()\n",
    "pl.xlabel('time t (ms)')\n",
    "pl.ylabel('voltage V (mV)')"
   ]
  },
  {
   "cell_type": "markdown",
   "metadata": {},
   "source": [
    "Show maximum values of voltage traces"
   ]
  },
  {
   "cell_type": "code",
   "execution_count": 4,
   "metadata": {},
   "outputs": [
    {
     "data": {
      "text/plain": [
       "<matplotlib.legend.Legend at 0x7fafe27810d0>"
      ]
     },
     "execution_count": 4,
     "metadata": {},
     "output_type": "execute_result"
    },
    {
     "data": {
      "image/png": "[encoded data removed]",
      "text/plain": [
       "<matplotlib.figure.Figure at 0x7fafe48ee990>"
      ]
     },
     "metadata": {},
     "output_type": "display_data"
    }
   ],
   "source": [
    "fig = pl.figure(2)\n",
    "pl.semilogx(epsilon_array,maxVs,color='red',label='maxV')\n",
    "#show singular solution as horizontal line\n",
    "pl.semilogx(epsilon_array,np.ones(len(epsilon_array))*maxVs[-1],color='black',label='singular')\n",
    "pl.xlabel('epsilon')\n",
    "pl.ylabel('max(voltage V) (mV)')\n",
    "pl.legend()"
   ]
  },
  {
   "cell_type": "code",
   "execution_count": 12,
   "metadata": {
    "collapsed": true
   },
   "outputs": [],
   "source": [
    "pl.show()"
   ]
  },
  {
   "cell_type": "markdown",
   "metadata": {},
   "source": [
    "The maximum of the voltage traces show that the non-singular case nicely converges to the singular one and no numeric instabilities occur. "
   ]
  }
 ],
 "metadata": {
  "kernelspec": {
   "display_name": "Python 2",
   "language": "python",
   "name": "python2"
  },
  "language_info": {
   "codemirror_mode": {
    "name": "ipython",
    "version": 2
   },
   "file_extension": ".py",
   "mimetype": "text/x-python",
   "name": "python",
   "nbconvert_exporter": "python",
   "pygments_lexer": "ipython2",
   "version": "2.7.15rc1"
  }
 },
 "nbformat": 4,
 "nbformat_minor": 1
}
