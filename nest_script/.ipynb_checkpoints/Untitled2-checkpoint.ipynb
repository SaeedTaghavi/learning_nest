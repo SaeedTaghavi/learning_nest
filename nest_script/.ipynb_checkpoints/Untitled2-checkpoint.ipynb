{
 "cells": [
  {
   "cell_type": "code",
   "execution_count": 36,
   "metadata": {},
   "outputs": [
    {
     "data": {
      "text/plain": [
       "({u'dt': 1.0,\n",
       "  u'element_type': <SLILiteral: stimulator>,\n",
       "  u'frequency': 0.0,\n",
       "  u'frozen': False,\n",
       "  u'global_id': 56,\n",
       "  u'local': True,\n",
       "  u'local_id': 56,\n",
       "  u'mean': 0.0,\n",
       "  u'model': <SLILiteral: noise_generator>,\n",
       "  u'node_uses_wfr': False,\n",
       "  u'origin': 0.0,\n",
       "  u'parent': 0,\n",
       "  u'phase': 0.0,\n",
       "  u'recordables': (<SLILiteral: I>,),\n",
       "  u'start': 0.0,\n",
       "  u'std': 0.0,\n",
       "  u'std_mod': 0.0,\n",
       "  u'stop': 1.7976931348623157e+308,\n",
       "  u'supports_precise_spikes': False,\n",
       "  u'thread': 0,\n",
       "  u'thread_local_id': -1,\n",
       "  u'vp': 0,\n",
       "  u'y_0': 0.0,\n",
       "  u'y_1': 0.0},)"
      ]
     },
     "execution_count": 36,
     "metadata": {},
     "output_type": "execute_result"
    }
   ],
   "source": [
    "import pylab\n",
    "import nest\n",
    "noise = nest.Create('noise_generator')\n",
    "nest.GetStatus(noise)"
   ]
  },
  {
   "cell_type": "code",
   "execution_count": 53,
   "metadata": {},
   "outputs": [],
   "source": [
    "def v_t(multimeter):\n",
    "    dmm = nest.GetStatus(multimeter)[0]\n",
    "    Vms = dmm[\"events\"][\"V_m\"]\n",
    "    ts = dmm[\"events\"][\"times\"]\n",
    "    return Vms,ts"
   ]
  },
  {
   "cell_type": "code",
   "execution_count": 27,
   "metadata": {},
   "outputs": [],
   "source": [
    "def simulate(std=0.0,run_time=1000.0):\n",
    "    import nest\n",
    "    nest.ResetKernel()\n",
    "    neuron = nest.Create(\"iaf_psc_alpha\")\n",
    "    nest.SetStatus(neuron, {\"I_e\": 375.0})\n",
    "    noise=nest.Create(\"noise_generator\")\n",
    "    nest.SetStatus(noise,{'mean': 0.0, 'std':std})\n",
    "    multimeter = nest.Create(\"multimeter\")\n",
    "    nest.SetStatus(multimeter, {\"withtime\":True, \"record_from\":[\"V_m\"]})\n",
    "    spikedetector = nest.Create(\"spike_detector\",params={\"withgid\": True, \"withtime\": True})\n",
    "    nest.Connect(noise,neuron)\n",
    "    nest.Connect(multimeter, neuron)\n",
    "    nest.Connect(neuron, spikedetector)\n",
    "    nest.Simulate(run_time)\n",
    "    return multimeter , spikedetector"
   ]
  },
  {
   "cell_type": "code",
   "execution_count": 30,
   "metadata": {},
   "outputs": [],
   "source": [
    "def create_spike_train(spikedetector):\n",
    "    dSD = nest.GetStatus(spikedetector,keys=\"events\")[0]\n",
    "    evs = dSD[\"senders\"]\n",
    "    ts = dSD[\"times\"]\n",
    "    return ts"
   ]
  },
  {
   "cell_type": "code",
   "execution_count": 29,
   "metadata": {},
   "outputs": [],
   "source": [
    "def fano_factor(time_seri):\n",
    "    import numpy as np\n",
    "    return np.var(time_seri)/np.mean(time_seri)"
   ]
  },
  {
   "cell_type": "code",
   "execution_count": 55,
   "metadata": {},
   "outputs": [
    {
     "name": "stdout",
     "output_type": "stream",
     "text": [
      "559\n",
      "581\n",
      "607\n",
      "630\n",
      "658\n",
      "687\n",
      "724\n",
      "754\n",
      "797\n",
      "841\n",
      "893\n",
      "946\n",
      "1015\n",
      "1083\n",
      "1160\n"
     ]
    },
    {
     "ename": "NameError",
     "evalue": "global name 'show' is not defined",
     "output_type": "error",
     "traceback": [
      "\u001b[0;31m---------------------------------------------------------------------------\u001b[0m",
      "\u001b[0;31mNameError\u001b[0m                                 Traceback (most recent call last)",
      "\u001b[0;32m<ipython-input-55-d1a1bfa82e1b>\u001b[0m in \u001b[0;36m<module>\u001b[0;34m()\u001b[0m\n\u001b[1;32m     12\u001b[0m \u001b[0;34m\u001b[0m\u001b[0m\n\u001b[1;32m     13\u001b[0m \u001b[0mplt\u001b[0m\u001b[0;34m.\u001b[0m\u001b[0mloglog\u001b[0m\u001b[0;34m(\u001b[0m\u001b[0mstd_array\u001b[0m\u001b[0;34m,\u001b[0m\u001b[0mff_array\u001b[0m\u001b[0;34m)\u001b[0m\u001b[0;34m\u001b[0m\u001b[0m\n\u001b[0;32m---> 14\u001b[0;31m \u001b[0mfig\u001b[0m\u001b[0;34m=\u001b[0m\u001b[0mplot_v\u001b[0m\u001b[0;34m(\u001b[0m\u001b[0mmlmt\u001b[0m\u001b[0;34m)\u001b[0m\u001b[0;34m\u001b[0m\u001b[0m\n\u001b[0m\u001b[1;32m     15\u001b[0m \u001b[0mshow\u001b[0m\u001b[0;34m(\u001b[0m\u001b[0mfig\u001b[0m\u001b[0;34m)\u001b[0m\u001b[0;34m\u001b[0m\u001b[0m\n",
      "\u001b[0;32m<ipython-input-53-1ca158aa0f96>\u001b[0m in \u001b[0;36mplot_v\u001b[0;34m(multimeter)\u001b[0m\n\u001b[1;32m      6\u001b[0m     \u001b[0mpylab\u001b[0m\u001b[0;34m.\u001b[0m\u001b[0mfigure\u001b[0m\u001b[0;34m(\u001b[0m\u001b[0;36m1\u001b[0m\u001b[0;34m)\u001b[0m\u001b[0;34m\u001b[0m\u001b[0m\n\u001b[1;32m      7\u001b[0m     \u001b[0mpylab\u001b[0m\u001b[0;34m.\u001b[0m\u001b[0mplot\u001b[0m\u001b[0;34m(\u001b[0m\u001b[0mts\u001b[0m\u001b[0;34m,\u001b[0m \u001b[0mVms\u001b[0m\u001b[0;34m)\u001b[0m\u001b[0;34m\u001b[0m\u001b[0m\n\u001b[0;32m----> 8\u001b[0;31m     \u001b[0mshow\u001b[0m\u001b[0;34m(\u001b[0m\u001b[0;34m)\u001b[0m\u001b[0;34m\u001b[0m\u001b[0m\n\u001b[0m",
      "\u001b[0;31mNameError\u001b[0m: global name 'show' is not defined"
     ]
    },
    {
     "data": {
      "image/png": "[encoded data removed]",
      "text/plain": [
       "<matplotlib.figure.Figure at 0x7f479355a310>"
      ]
     },
     "metadata": {},
     "output_type": "display_data"
    }
   ],
   "source": [
    "import numpy as np\n",
    "import matplotlib.pyplot as plt\n",
    "std_array=np.logspace(-4.0,0.0,15)\n",
    "# std_array=[.1,.2]\n",
    "ff_array=[]\n",
    "for std in std_array:\n",
    "    mlmt,spd=simulate(std,run_time=100000.0)\n",
    "    spike_train=create_spike_train(spd)\n",
    "    print len(spike_train)\n",
    "    ff=fano_factor(spike_train)\n",
    "    ff_array.append(ff)\n",
    "    \n",
    "plt.loglog(std_array,ff_array)\n",
    "fig=plot_v(mlmt)\n",
    "show(fig)"
   ]
  },
  {
   "cell_type": "code",
   "execution_count": 41,
   "metadata": {},
   "outputs": [
    {
     "name": "stdout",
     "output_type": "stream",
     "text": [
      "[1.00000000e-04 1.77827941e-03 3.16227766e-02 5.62341325e-01\n",
      " 1.00000000e+01]\n"
     ]
    }
   ],
   "source": [
    "import numpy as np\n",
    "\n",
    "print std_array"
   ]
  },
  {
   "cell_type": "code",
   "execution_count": 20,
   "metadata": {},
   "outputs": [],
   "source": [
    "import nest\n",
    "nest.ResetKernel()\n",
    "neuron = nest.Create(\"iaf_psc_alpha\")\n",
    "nest.SetStatus(neuron, {\"I_e\": 375.0})\n",
    "noise=nest.Create(\"noise_generator\")\n",
    "nest.SetStatus(noise,{'mean': 0.0, 'std':.0001})\n",
    "multimeter = nest.Create(\"multimeter\")\n",
    "nest.SetStatus(multimeter, {\"withtime\":True, \"record_from\":[\"V_m\"]})\n",
    "spikedetector = nest.Create(\"spike_detector\",params={\"withgid\": True, \"withtime\": True})\n",
    "nest.Connect(noise,neuron)\n",
    "nest.Connect(multimeter, neuron)\n",
    "nest.Connect(neuron, spikedetector)\n",
    "nest.Simulate(1000.0)\n"
   ]
  },
  {
   "cell_type": "code",
   "execution_count": 21,
   "metadata": {},
   "outputs": [
    {
     "name": "stdout",
     "output_type": "stream",
     "text": [
      "number of spikes: 5\n"
     ]
    },
    {
     "data": {
      "image/png": "[encoded data removed]",
      "text/plain": [
       "<matplotlib.figure.Figure at 0x7f479360dd10>"
      ]
     },
     "metadata": {},
     "output_type": "display_data"
    },
    {
     "data": {
      "image/png": "[encoded data removed]",
      "text/plain": [
       "<matplotlib.figure.Figure at 0x7f47936176d0>"
      ]
     },
     "metadata": {},
     "output_type": "display_data"
    }
   ],
   "source": [
    "dmm = nest.GetStatus(multimeter)[0]\n",
    "Vms = dmm[\"events\"][\"V_m\"]\n",
    "ts = dmm[\"events\"][\"times\"]\n",
    "\n",
    "import pylab\n",
    "pylab.figure(1)\n",
    "pylab.plot(ts, Vms)\n",
    "dSD = nest.GetStatus(spikedetector,keys=\"events\")[0]\n",
    "evs = dSD[\"senders\"]\n",
    "ts = dSD[\"times\"]\n",
    "print  \"number of spikes:\", len(ts)\n",
    "pylab.figure(2)\n",
    "pylab.plot(ts, evs, \".\")\n",
    "pylab.show()\n"
   ]
  },
  {
   "cell_type": "code",
   "execution_count": 4,
   "metadata": {},
   "outputs": [
    {
     "data": {
      "text/plain": [
       "array([ 59.3, 120.6, 181.9, 243.2, 304.5, 365.8, 427.1, 488.4, 549.7,\n",
       "       611. , 672.3, 733.6, 794.9, 856.2, 917.5, 978.8])"
      ]
     },
     "execution_count": 4,
     "metadata": {},
     "output_type": "execute_result"
    }
   ],
   "source": [
    "ts"
   ]
  },
  {
   "cell_type": "code",
   "execution_count": 5,
   "metadata": {},
   "outputs": [],
   "source": [
    "import seaborn as sbn"
   ]
  },
  {
   "cell_type": "code",
   "execution_count": 6,
   "metadata": {},
   "outputs": [
    {
     "name": "stderr",
     "output_type": "stream",
     "text": [
      "/usr/lib/python2.7/dist-packages/scipy/stats/stats.py:1633: FutureWarning: Using a non-tuple sequence for multidimensional indexing is deprecated; use `arr[tuple(seq)]` instead of `arr[seq]`. In the future this will be interpreted as an array index, `arr[np.array(seq)]`, which will result either in an error or a different result.\n",
      "  return np.add.reduce(sorted[indexer] * weights, axis=axis) / sumval\n"
     ]
    },
    {
     "data": {
      "text/plain": [
       "<matplotlib.axes._subplots.AxesSubplot at 0x7f4793a69bd0>"
      ]
     },
     "execution_count": 6,
     "metadata": {},
     "output_type": "execute_result"
    },
    {
     "data": {
      "image/png": "[encoded data removed]",
      "text/plain": [
       "<matplotlib.figure.Figure at 0x7f4793a69610>"
      ]
     },
     "metadata": {},
     "output_type": "display_data"
    }
   ],
   "source": [
    "sbn.distplot(ts)"
   ]
  },
  {
   "cell_type": "code",
   "execution_count": null,
   "metadata": {},
   "outputs": [],
   "source": []
  }
 ],
 "metadata": {
  "kernelspec": {
   "display_name": "Python 2",
   "language": "python",
   "name": "python2"
  },
  "language_info": {
   "codemirror_mode": {
    "name": "ipython",
    "version": 2
   },
   "file_extension": ".py",
   "mimetype": "text/x-python",
   "name": "python",
   "nbconvert_exporter": "python",
   "pygments_lexer": "ipython2",
   "version": "2.7.15rc1"
  }
 },
 "nbformat": 4,
 "nbformat_minor": 2
}
