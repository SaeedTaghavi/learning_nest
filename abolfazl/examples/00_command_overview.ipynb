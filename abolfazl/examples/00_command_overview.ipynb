{
 "cells": [
  {
   "cell_type": "markdown",
   "metadata": {},
   "source": [
    "## command overview"
   ]
  },
  {
   "cell_type": "markdown",
   "metadata": {},
   "source": [
    "These are the functions we introduced for the examples in this handout; the following sections of this introduction will add more.\n",
    "\n",
    "### Getting information about NEST\n",
    "-  <font color=\"blue\">Models(mtype=\"all\", sel=None):</font>\n",
    "\n",
    "Return a list of all available models (nodes and synapses). Use mtype=\"nodes\" to only see node models, mtype=\"synapses\" to only see synapse models. sel can be a string, used to filter the result list and only return models containing it.\n",
    "\n",
    "-  <font color=\"blue\"> helpdesk(): </font>\n",
    "\n",
    "Opens the NEST documentation pages in the given browser.\n",
    "\n",
    "-  <font color='blue'>help(obj=None,pager=\"less\"): </font>\n",
    "\n",
    "Opens the help page for the given object.\n",
    "\n",
    "### Nodes\n",
    "-  <font color='blue'> Create(model, n=1, params=None): </font>\n",
    "\n",
    "Create n instances of type model in the current sub-network. Parameters for the new nodes can be given as params (a single dictionary, or a list of dictionaries with size n). If omitted, the model’s defaults are used.\n",
    "\n",
    "-  <font color='blue'> GetStatus(nodes, keys=None):</font>\n",
    "\n",
    "Return a list of parameter dictionaries for the given list of nodes. If keys is given, a list of values is returned instead. keys may also be a list, in which case the returned list contains lists of values.\n",
    "\n",
    "-  <font color='blue'> SetStatus(nodes, params, val=None): </font>\n",
    "\n",
    "Set the parameters of the given nodes to params, which may be a single dictionary, or a list of dictionaries of the same size as nodes. If val is given, params has to be the name of a property, which is set to val on the nodes. val can be a single value, or a list of the same size as nodes.\n",
    "\n",
    "### Connections\n",
    "This is an abbreviated version of the documentation for the Connect function, please see NEST’s online help for the full version and Connection Management for an introduction and worked examples.\n",
    "\n",
    "-  <font color='blue'> Connect(pre, post, conn_spec=None, syn_spec=None, model=None): </font>\n",
    "\n",
    "Connect pre neurons to post neurons.Neurons in pre and post are connected using the specified connectivity (\"one_to_one\" by default) and synapse type (\"static_synapse\" by default). Details depend on the connectivity rule. Note: Connect does not iterate over subnets, it only connects explicitly specified nodes. pre - presynaptic neurons, given as list of GIDs post - presynaptic neurons, given as list of GIDs conn_spec - name or dictionary specifying connectivity rule, see below syn_spec - name or dictionary specifying synapses, see below\n",
    "\n",
    "### Connectivity\n",
    "Connectivity is either specified as a string containing the name of a connectivity rule (default: \"one_to_one\") or as a dictionary specifying the rule and rule-specific parameters (e.g. \"indegree\"), which must be given. In addition switches allowing self-connections (\"autapses\", default: True) and multiple connections between a pair of neurons (\"multapses\", default: True) can be contained in the dictionary.\n",
    "\n",
    "### Synapse\n",
    "The synapse model and its properties can be inserted either as a string describing one synapse model (synapse models are listed in the synapsedict) or as a dictionary as described below. If no synapse model is specified the default model \"static_synapse\" will be used. Available keys in the synapse dictionary are \"model\", \"weight\", \"delay\", \"receptor_type\" and parameters specific to the chosen synapse model. All parameters are optional and if not specified will use the default values determined by the current synapse model. \"model\" determines the synapse type, taken from pre-defined synapse types in NEST or manually specified synapses created via CopyModel(). All other parameters can be scalars or distributions. In the case of scalar parameters, all keys take doubles except for \"receptor_type\" which has to be initialised with an integer. Distributed parameters are initialised with yet another dictionary specifying the distribution (\"distribution\", such as \"normal\") and distribution-specific paramters (such as \"mu\" and \"sigma\").\n",
    "\n",
    "### Simulation control\n",
    "-  <font color='blue'> Simulate(t): </font>\n",
    "\n",
    "Simulate the network for t milliseconds."
   ]
  },
  {
   "cell_type": "code",
   "execution_count": null,
   "metadata": {},
   "outputs": [],
   "source": []
  }
 ],
 "metadata": {
  "kernelspec": {
   "display_name": "Python 2",
   "language": "python",
   "name": "python2"
  },
  "language_info": {
   "codemirror_mode": {
    "name": "ipython",
    "version": 2
   },
   "file_extension": ".py",
   "mimetype": "text/x-python",
   "name": "python",
   "nbconvert_exporter": "python",
   "pygments_lexer": "ipython2",
   "version": "2.7.12"
  }
 },
 "nbformat": 4,
 "nbformat_minor": 2
}
