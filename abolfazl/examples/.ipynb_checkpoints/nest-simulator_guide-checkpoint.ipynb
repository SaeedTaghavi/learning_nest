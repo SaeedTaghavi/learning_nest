{
 "cells": [
  {
   "cell_type": "markdown",
   "metadata": {},
   "source": [
    "INTG- [IASBS THEORETICAL NEUROSCIENCE GROUP](https://www.iasbs.ac.ir/~valizade/)"
   ]
  },
  {
   "cell_type": "markdown",
   "metadata": {},
   "source": [
    "### [Single neuron](http://www.nest-simulator.org/part-1-neurons-and-simple-neural-networks/)\n",
    "\n",
    "In this handout we cover the first steps in using PyNEST to simulate neuronal networks.\n",
    "\n",
    "-  create a single neuron, multimeter and spikedetector\n",
    "-  connect the multimeter and spikedetector to the neuron\n",
    "-  plot voltage and spike events over time"
   ]
  },
  {
   "cell_type": "code",
   "execution_count": 1,
   "metadata": {},
   "outputs": [
    {
     "name": "stdout",
     "output_type": "stream",
     "text": [
      "I_e =  (0.0,)\n",
      "V_reset and V_the are  ((-70.0, -55.0),)\n",
      "I_e =  (376.0,)\n"
     ]
    },
    {
     "data": {
      "image/png": "[encoded data removed]",
      "text/plain": [
       "<matplotlib.figure.Figure at 0x7f71f6daecd0>"
      ]
     },
     "metadata": {
      "needs_background": "light"
     },
     "output_type": "display_data"
    }
   ],
   "source": [
    "import nest\n",
    "import pylab as pl #to plot figures\n",
    "# just for jupyter notebooks to put figures inside the document\n",
    "% matplotlib inline \n",
    "\n",
    "# ResetKernel() gets rid of all nodes you have created, \n",
    "# any customised models you created, and resets \n",
    "# the internal clock to 0.\n",
    "# use it at the begining of each seperate simulation.\n",
    "nest.ResetKernel()\n",
    "\n",
    "# create a neuron of type iaf_psc_alpha\n",
    "neuron = nest.Create('iaf_psc_alpha')\n",
    "\n",
    "# iaf_psc_alpha is an implementation of a leaky integrate-and-fire model  \n",
    "# with alpha-function shaped synaptic currents.\n",
    "\n",
    "# print default values of parameters\n",
    "print 'I_e = ', nest.GetStatus(neuron, \"I_e\")\n",
    "print 'V_reset and V_the are ', nest.GetStatus(neuron, [\"V_reset\", \"V_th\"])\n",
    "\n",
    "\n",
    "# stimulate the neuron with a constant current\n",
    "nest.SetStatus(neuron,{'I_e':376.0})\n",
    "print 'I_e = ', nest.GetStatus(neuron, \"I_e\")\n",
    "\n",
    "# create a multimeter, a device we can use to record the \n",
    "# membrane voltage of a neuron over time.\n",
    "multimeter = nest.Create(\"multimeter\")\n",
    "\n",
    "# We set its property withtime such that it will also \n",
    "# record the points in time at which it samples the \n",
    "# membrane voltage. The property record_from expects\n",
    "# a list of the names of the variables we would like to record.\n",
    "nest.SetStatus(multimeter,{\"withtime\":True,\n",
    "                           \"record_from\":[\"V_m\"]})\n",
    "\n",
    "# create a spikedetector, another device that records the spiking \n",
    "# events produced by a neuron. \n",
    "# withgid indicates whether the spike detector is to \n",
    "# record the source id from which it received the event\n",
    "# (i.e. the id of our neuron).                                   \n",
    "spikedetector = nest.Create(\"spike_detector\",\n",
    "                            params={\"withgid\" : True,\n",
    "                                    \"withtime\": True})\n",
    "\n",
    "# Connecting node to multimeter and spikedetector with default connections\n",
    "# the order of arguments is important\n",
    "nest.Connect(multimeter, neuron)\n",
    "nest.Connect(neuron, spikedetector)\n",
    "\n",
    "# start the simulation\n",
    "nest.Simulate(1000.0) # time in ms\n",
    "\n",
    "# Extracting and plotting data from devices\n",
    "\n",
    "dmm = nest.GetStatus(multimeter)[0]\n",
    "Vms = dmm[\"events\"][\"V_m\"]\n",
    "ts = dmm[\"events\"][\"times\"]\n",
    "# pl.figure(1)\n",
    "# pl.plot(ts,Vms)\n",
    "\n",
    "# print nest.GetStatus(spikedetector)[0].keys()\n",
    "# print nest.GetStatus(spikedetector)[0]['events']\n",
    "dSD = nest.GetStatus(spikedetector,keys='events')[0]\n",
    "evs = dSD['senders']\n",
    "ts = dSD[\"times\"]\n",
    "pl.figure(2)\n",
    "pl.plot(ts,evs,'.');\n",
    "# pl.show()"
   ]
  },
  {
   "cell_type": "code",
   "execution_count": 10,
   "metadata": {
    "scrolled": true
   },
   "outputs": [
    {
     "data": {
      "text/plain": [
       "{u'C_m': 250.0,\n",
       " u'Ca': 0.0,\n",
       " u'E_L': -70.0,\n",
       " u'I_e': 0.0,\n",
       " u'V_m': -70.0,\n",
       " u'V_min': -inf,\n",
       " u'V_reset': -70.0,\n",
       " u'V_th': -55.0,\n",
       " u'archiver_length': 0,\n",
       " u'available': (999,),\n",
       " u'beta_Ca': 0.001,\n",
       " u'capacity': (1000,),\n",
       " u'element_type': <SLILiteral: neuron>,\n",
       " u'elementsize': 680,\n",
       " u'frozen': False,\n",
       " u'global_id': 0,\n",
       " u'instantiations': (1,),\n",
       " u'local': True,\n",
       " u'model': <SLILiteral: iaf_psc_alpha>,\n",
       " u'node_uses_wfr': False,\n",
       " u'recordables': (<SLILiteral: I_syn_ex>,\n",
       "  <SLILiteral: I_syn_in>,\n",
       "  <SLILiteral: V_m>,\n",
       "  <SLILiteral: weighted_spikes_ex>,\n",
       "  <SLILiteral: weighted_spikes_in>),\n",
       " u'supports_precise_spikes': False,\n",
       " u'synaptic_elements': {},\n",
       " u't_ref': 2.0,\n",
       " u't_spike': -1.0,\n",
       " u'tau_Ca': 10000.0,\n",
       " u'tau_m': 10.0,\n",
       " u'tau_minus': 20.0,\n",
       " u'tau_minus_triplet': 110.0,\n",
       " u'tau_syn_ex': 2.0,\n",
       " u'tau_syn_in': 2.0,\n",
       " u'thread': 0,\n",
       " u'thread_local_id': -1,\n",
       " u'type_id': <SLILiteral: iaf_psc_alpha>,\n",
       " u'vp': -1}"
      ]
     },
     "execution_count": 10,
     "metadata": {},
     "output_type": "execute_result"
    }
   ],
   "source": [
    "nest.GetDefaults('iaf_psc_alpha')['recordables'];\n",
    "nest.GetDefaults('iaf_psc_alpha')\n",
    "# nest.GetDefaults('iaf_cond_alpha')['recordables']\n",
    "# nest.GetDefaults('iaf_cond_alpha')\n"
   ]
  },
  {
   "cell_type": "code",
   "execution_count": 4,
   "metadata": {},
   "outputs": [],
   "source": [
    "nest.Models(mtype='nodes'); # Models(mtype=\"all\", sel=None)  mtype='nodes' , 'synapses'"
   ]
  },
  {
   "cell_type": "markdown",
   "metadata": {},
   "source": [
    "### Add extra neuron\n",
    "-  record from a spiking and a silent neuron with a single multileter\n",
    "-  neurons are not coupled\n",
    "-  plot the voltage versus time"
   ]
  },
  {
   "cell_type": "code",
   "execution_count": 13,
   "metadata": {},
   "outputs": [
    {
     "name": "stdout",
     "output_type": "stream",
     "text": [
      "[1 1 1 1 1 1 1 1 1 1 1 1 1 1 1 1]\n"
     ]
    },
    {
     "data": {
      "image/png": "[encoded data removed]",
      "text/plain": [
       "<matplotlib.figure.Figure at 0x7ff47dd56650>"
      ]
     },
     "metadata": {},
     "output_type": "display_data"
    }
   ],
   "source": [
    "% matplotlib inline\n",
    "import nest\n",
    "import pylab as pl\n",
    "from sys import exit\n",
    "\n",
    "nest.ResetKernel()\n",
    "\n",
    "# the first neuron\n",
    "neuron = nest.Create('iaf_psc_alpha')\n",
    "nest.SetStatus(neuron,{'I_e':376.0})\n",
    "multimeter = nest.Create(\"multimeter\")\n",
    "nest.SetStatus(multimeter,{\"withtime\":True, \n",
    "                           \"record_from\":[\"V_m\"]})\n",
    "spikedetector = nest.Create(\"spike_detector\",\n",
    "                            params={\"withgid\": True,\n",
    "                                   \"withtime\": True})\n",
    "nest.Connect(multimeter, neuron)\n",
    "nest.Connect(neuron, spikedetector)\n",
    "\n",
    "\n",
    "# Create an extra neuron\n",
    "neuron2 = nest.Create(\"iaf_psc_alpha\")\n",
    "\n",
    "# add constant current to neuron but less the sufficient to make spike\n",
    "nest.SetStatus(neuron2,{\"I_e\":370.0}) \n",
    "\n",
    "# connect this newly created neuron to the multimeter\n",
    "# we use the same multimeter and spikedetector to record from both neurons\n",
    "# Connect(pre, post, conn_spec, syn_spec)\n",
    "# http://www.nest-simulator.org/connection-management/\n",
    "nest.Connect(multimeter, neuron2)\n",
    "nest.Connect(neuron2, spikedetector)\n",
    "\n",
    "\n",
    "nest.Simulate(1000.0) # in ms\n",
    "\n",
    "# plotting the results\n",
    "# Run the simulation and plot the results, \n",
    "# they will look incorrect. To fix this you must \n",
    "# plot the two neuron traces separately\n",
    "# the seperation is carry out with slicing the arrays\n",
    "# [::2] get the even indices\n",
    "# [1::2] get the odd indices \n",
    "# numpy slicing: [start:end:step]\n",
    "\n",
    "dmm = nest.GetStatus(multimeter)[0]\n",
    "Vms1 = dmm[\"events\"][\"V_m\"][::2]\n",
    "ts1 = dmm[\"events\"][\"times\"][::2]\n",
    "pl.plot(ts1,Vms1)\n",
    "Vms2 = dmm[\"events\"][\"V_m\"][1::2]\n",
    "ts2 = dmm['events']['times'][1::2]\n",
    "pl.plot(ts2,Vms2)\n",
    "pl.show()\n",
    "\n",
    "# dSD = nest.GetStatus(spikedetector,keys='events')[0]\n",
    "# evs = dSD['senders']\n",
    "# print evs\n",
    "# ts = dSD[\"times\"]\n",
    "\n",
    "# ------------------------------------------------------- #\n",
    "# uncomment these lines to see the wrong results\n",
    "# Vms1 = dmm[\"events\"][\"V_m\"]\n",
    "# ts1 = dmm[\"events\"][\"times\"]\n",
    "# pl.plot(ts1,Vms1)\n",
    "# Vms2 = dmm[\"events\"][\"V_m\"]\n",
    "# ts2 = dmm['events']['times']\n",
    "# pl.plot(ts2,Vms2)\n",
    "# pl.show()\n"
   ]
  },
  {
   "cell_type": "markdown",
   "metadata": {},
   "source": [
    "### Connecting nodes with specific connections\n",
    "-  single neuron receives 2 Poisson spike trains\n",
    "-  one excitatory and the other inhibitory\n",
    "-  plot the voltage and spike events"
   ]
  },
  {
   "cell_type": "code",
   "execution_count": 14,
   "metadata": {},
   "outputs": [
    {
     "data": {
      "image/png": "[encoded data removed]",
      "text/plain": [
       "<matplotlib.figure.Figure at 0x7ff480364810>"
      ]
     },
     "metadata": {},
     "output_type": "display_data"
    }
   ],
   "source": [
    "% matplotlib inline\n",
    "import nest\n",
    "import pylab as pl\n",
    "nest.ResetKernel()\n",
    "neuron = nest.Create('iaf_psc_alpha')\n",
    "nest.SetStatus(neuron,{'I_e':376.0})\n",
    "multimeter = nest.Create(\"multimeter\")\n",
    "nest.SetStatus(multimeter,{\"withtime\":True,\n",
    "                           \"record_from\":[\"V_m\"]})\n",
    "spikedetector = nest.Create(\"spike_detector\",\n",
    "                            params={\"withgid\": True,\n",
    "                                   \"withtime\": True})\n",
    "nest.Connect(multimeter, neuron)\n",
    "nest.Connect(neuron, spikedetector)\n",
    "\n",
    "# ------------------------------------------------------- #\n",
    "# Connecting nodes with specific connections\n",
    "# neuron receives 2 Poisson spike trains,\n",
    "# one excitatory and the other inhibitory\n",
    "\n",
    "noise_ex = nest.Create(\"poisson_generator\")\n",
    "noise_in = nest.Create(\"poisson_generator\")\n",
    "nest.SetStatus(noise_ex, {\"rate\": 80000.0}) # in [Hz]\n",
    "nest.SetStatus(noise_in, {\"rate\": 15000.0})\n",
    "\n",
    "# constant input current should be set to 0:\n",
    "nest.SetStatus(neuron, {\"I_e\": 0.0})\n",
    "\n",
    "# excitatory postsynaptic current of 1.2pA amplitude\n",
    "syn_dict_ex = {\"weight\": 1.2} \n",
    "\n",
    "# inhibitory postsynaptic current of -2pA amplitude\n",
    "syn_dict_in = {\"weight\": -2.0}\n",
    "\n",
    "# The synaptic weights can be defined in a dictionary,\n",
    "# which is passed to the Connect function using the \n",
    "# keyword syn_spec (synapse specifications).\n",
    "nest.Connect(noise_ex, neuron, syn_spec=syn_dict_ex)\n",
    "nest.Connect(noise_in, neuron, syn_spec=syn_dict_in)\n",
    "\n",
    "nest.Simulate(1000.0) # in ms\n",
    "\n",
    "# plot the results\n",
    "dmm = nest.GetStatus(multimeter)[0]\n",
    "Vms1 = dmm[\"events\"][\"V_m\"]\n",
    "ts1 = dmm[\"events\"][\"times\"]\n",
    "\n",
    "fig, ax = pl.subplots(2, figsize=(8,8))\n",
    "ax[0].plot(ts1, Vms1, c='k', lw=2)\n",
    "\n",
    "dSD = nest.GetStatus(spikedetector, keys='events')[0]\n",
    "evs = dSD['senders']\n",
    "ts = dSD[\"times\"]\n",
    "ax[1].plot(ts,evs,'.', c='k')\n",
    "\n",
    "# set labels\n",
    "ax[1].set_xlabel('time(ms)', fontsize=16)\n",
    "ax[0].set_ylabel('Voltage(mV)')\n",
    "ax[1].set_ylabel('Spike events')\n",
    "pl.show()"
   ]
  },
  {
   "cell_type": "markdown",
   "metadata": {},
   "source": [
    "### two connected neurons\n",
    "-  plot post synaptic voltage from neuron 1 on neuron 2"
   ]
  },
  {
   "cell_type": "code",
   "execution_count": 20,
   "metadata": {},
   "outputs": [
    {
     "data": {
      "image/png": "[encoded data removed]",
      "text/plain": [
       "<matplotlib.figure.Figure at 0x7ff4802efdd0>"
      ]
     },
     "metadata": {},
     "output_type": "display_data"
    }
   ],
   "source": [
    "% matplotlib inline\n",
    "import nest\n",
    "import pylab as pl\n",
    "neuron1 = nest.Create(\"iaf_psc_alpha\")\n",
    "\n",
    "# input to neuron 1\n",
    "nest.SetStatus(neuron1, {\"I_e\": 376.0})\n",
    "\n",
    "neuron2 = nest.Create(\"iaf_psc_alpha\")\n",
    "multimeter = nest.Create(\"multimeter\")\n",
    "\n",
    "nest.SetStatus(multimeter, {\"withtime\": True,\n",
    "                            \"record_from\": [\"V_m\"]})\n",
    "\n",
    "# connect neuron1 to neuron2\n",
    "# nest.Connect(neuron1, neuron2, syn_spec={\"weight\": 20.0})\n",
    "#  default delay is 1ms, alternative command is:\n",
    "nest.Connect(neuron1,\n",
    "             neuron2, syn_spec={\"weight\": 20, \"delay\": 1.0})\n",
    "\n",
    "# input current of neuron 2 is only from PSP of neuron 1\n",
    "# record the membrane potential from neuron2 \n",
    "nest.Connect(multimeter, neuron2)\n",
    "\n",
    "nest.Simulate(1000.0)  # in ms\n",
    "\n",
    "dmm = nest.GetStatus(multimeter)[0]\n",
    "Vms = dmm[\"events\"][\"V_m\"]\n",
    "ts = dmm[\"events\"][\"times\"]\n",
    "\n",
    "pl.plot(ts, Vms)\n",
    "pl.xlabel('time(ms)')\n",
    "pl.ylabel('PSP neuron 2 from neuron 1')\n",
    "\n",
    "pl.show()\n"
   ]
  },
  {
   "cell_type": "markdown",
   "metadata": {},
   "source": [
    "### creating parameterised populations of nodes"
   ]
  },
  {
   "cell_type": "code",
   "execution_count": 21,
   "metadata": {},
   "outputs": [],
   "source": [
    "\n",
    "import nest\n",
    "import pylab as pl\n",
    "from sys import exit\n",
    "\n",
    "nest.ResetKernel()\n",
    "\n",
    "#the most basic way of creating a batch of identically\n",
    "# parameterised neurons is to exploit the optional \n",
    "# arguments of Create():\n",
    "ndict = {\"I_e\": 200.0, \"tau_m\": 20.0}\n",
    "neuronpop = nest.Create(\"iaf_psc_alpha\", 100, params=ndict)\n",
    "# neuronpop is a list of all the ids of the created neurons.\n",
    "# naming the neurons in population start from 1 (uncomment the next line)\n",
    "# print neuronpop \n",
    "\n",
    "# We can also set the parameters of a neuron model before \n",
    "# creation, which allows us to define a simulation more \n",
    "# concisely in many cases\n",
    "ndict = {\"I_e\": 200.0, \"tau_m\": 20.0}\n",
    "# nest.SetDefaults(model, params)\n",
    "nest.SetDefaults(\"iaf_psc_alpha\",ndict)\n",
    "\n",
    "neuronpop1 = nest.Create(\"iaf_psc_alpha\", 100)\n",
    "neuronpop2 = nest.Create(\"iaf_psc_alpha\", 100)\n",
    "neuronpop3 = nest.Create(\"iaf_psc_alpha\", 100)\n",
    "\n",
    "# check default values of the model\n",
    "# print nest.GetStatus(neuronpop1[1:10], \"I_e\")\n",
    "# print nest.GetDefaults('iaf_psc_alpha')['tau_m']\n",
    "# print nest.GetDefaults('iaf_psc_alpha')['I_e']\n",
    "\n",
    "# -------------------------------------------------- #\n",
    "# If batches of neurons should be of the same model but using \n",
    "# different parameters, it is handy to use CopyModel\n",
    "# to make a customised version of a neuron model with its own \n",
    "# default parameters. \n",
    "edict = {\"I_e\": 200.0, \"tau_m\": 20.0}\n",
    "# CopyModel(existing, new, params=None)\n",
    "nest.CopyModel(\"iaf_psc_alpha\", \"exc_iaf_neuron\")\n",
    "nest.SetDefaults(\"exc_iaf_neuron\",edict)\n",
    "\n",
    "# # or in one step ----------------------------------- #\n",
    "idict = {\"I_e\": 300.0}\n",
    "nest.CopyModel(\"iaf_psc_alpha\", \"inh_iaf_neuron\", params=idict)\n",
    "epop1 = nest.Create(\"exc_iaf_neuron\", 100)\n",
    "epop2 = nest.Create(\"exc_iaf_neuron\", 100)\n",
    "ipop1 = nest.Create(\"inh_iaf_neuron\", 30)\n",
    "ipop2 = nest.Create(\"inh_iaf_neuron\", 30)\n",
    "\n",
    "\n",
    "# populations with an inhomogeneous set of parameters\n",
    "# supply a list of dictionaries of the same length as\n",
    "# the number of neurons (or synapses) created\n",
    "parameter_list = [{\"I_e\": 200.0, \"tau_m\": 20.0},\n",
    "                  {\"I_e\": 150.0, \"tau_m\": 30.0}]\n",
    "epop3 = nest.Create(\"exc_iaf_neuron\", 2, parameter_list)  \n",
    "# print nest.GetStatus(epop3, ['I_e', 'tau_m'])\n"
   ]
  },
  {
   "cell_type": "code",
   "execution_count": 23,
   "metadata": {},
   "outputs": [
    {
     "name": "stdout",
     "output_type": "stream",
     "text": [
      "(200.0, 200.0, 200.0, 200.0, 200.0, 200.0, 200.0, 200.0, 200.0)\n",
      "20.0\n",
      "200.0\n",
      "((200.0, 20.0), (150.0, 30.0))\n"
     ]
    }
   ],
   "source": [
    "import nest\n",
    "import pylab as pl\n",
    "from sys import exit\n",
    "\n",
    "nest.ResetKernel()\n",
    "\n",
    "#the most basic way of creating a batch of identically\n",
    "# parameterised neurons is to exploit the optional \n",
    "# arguments of Create():\n",
    "ndict = {\"I_e\": 200.0, \"tau_m\": 20.0}\n",
    "neuronpop = nest.Create(\"iaf_psc_alpha\", 100, params=ndict)\n",
    "# neuronpop is a list of all the ids of the created neurons.\n",
    "# naming the neurons in population start from 1 (uncomment the next line)\n",
    "# print neuronpop \n",
    "\n",
    "# We can also set the parameters of a neuron model before \n",
    "# creation, which allows us to define a simulation more \n",
    "# concisely in many cases\n",
    "ndict = {\"I_e\": 200.0, \"tau_m\": 20.0}\n",
    "# nest.SetDefaults(model, params)\n",
    "nest.SetDefaults(\"iaf_psc_alpha\",ndict)\n",
    "\n",
    "neuronpop1 = nest.Create(\"iaf_psc_alpha\", 100)\n",
    "neuronpop2 = nest.Create(\"iaf_psc_alpha\", 100)\n",
    "neuronpop3 = nest.Create(\"iaf_psc_alpha\", 100)\n",
    "\n",
    "# check default values of the model\n",
    "print nest.GetStatus(neuronpop1[1:10], \"I_e\")\n",
    "print nest.GetDefaults('iaf_psc_alpha')['tau_m']\n",
    "print nest.GetDefaults('iaf_psc_alpha')['I_e']\n",
    "\n",
    "# -------------------------------------------------- #\n",
    "# If batches of neurons should be of the same model but using \n",
    "# different parameters, it is handy to use CopyModel\n",
    "# to make a customised version of a neuron model with its own \n",
    "# default parameters. \n",
    "edict = {\"I_e\": 200.0, \"tau_m\": 20.0}\n",
    "# CopyModel(existing, new, params=None)\n",
    "nest.CopyModel(\"iaf_psc_alpha\", \"exc_iaf_neuron\")\n",
    "nest.SetDefaults(\"exc_iaf_neuron\",edict)\n",
    "\n",
    "# # or in one step ----------------------------------- #\n",
    "idict = {\"I_e\": 300.0}\n",
    "nest.CopyModel(\"iaf_psc_alpha\", \"inh_iaf_neuron\", params=idict)\n",
    "epop1 = nest.Create(\"exc_iaf_neuron\", 100)\n",
    "epop2 = nest.Create(\"exc_iaf_neuron\", 100)\n",
    "ipop1 = nest.Create(\"inh_iaf_neuron\", 30)\n",
    "ipop2 = nest.Create(\"inh_iaf_neuron\", 30)\n",
    "\n",
    "\n",
    "# populations with an inhomogeneous set of parameters\n",
    "# supply a list of dictionaries of the same length as\n",
    "# the number of neurons (or synapses) created\n",
    "parameter_list = [{\"I_e\": 200.0, \"tau_m\": 20.0},\n",
    "                  {\"I_e\": 150.0, \"tau_m\": 30.0}]\n",
    "epop3 = nest.Create(\"exc_iaf_neuron\", 2, parameter_list)  \n",
    "print nest.GetStatus(epop3, ['I_e', 'tau_m'])\n"
   ]
  },
  {
   "cell_type": "markdown",
   "metadata": {},
   "source": [
    "### setting parameters for populations of neurons\n",
    "\n",
    "-  when some parameter should be drawn from a random distribution\n",
    "-  make a loop over the population and set the status of each one\n"
   ]
  },
  {
   "cell_type": "code",
   "execution_count": 2,
   "metadata": {},
   "outputs": [],
   "source": [
    "import numpy as np # to use random function\n",
    "Vth=-55.                  \n",
    "Vrest=-70.               \n",
    "for neuron in epop1:\n",
    "    nest.SetStatus([neuron], {\"V_m\": Vrest+(Vth-Vrest)*np.random.rand()})"
   ]
  },
  {
   "cell_type": "markdown",
   "metadata": {},
   "source": [
    "One way to do it is to give a list of dictionaries which is the same length as the number of nodes to be parameterised, for example using a list comprehension"
   ]
  },
  {
   "cell_type": "code",
   "execution_count": 3,
   "metadata": {},
   "outputs": [],
   "source": [
    "dVms =  [{\"V_m\": Vrest+(Vth-Vrest)*np.random.rand()} for x in epop1]\n",
    "nest.SetStatus(epop1, dVms)"
   ]
  },
  {
   "cell_type": "markdown",
   "metadata": {},
   "source": [
    "If we only need to randomise one parameter then there is a more concise way"
   ]
  },
  {
   "cell_type": "code",
   "execution_count": 4,
   "metadata": {},
   "outputs": [],
   "source": [
    "Vms = Vrest+(Vth-Vrest)*np.random.rand(len(epop1))\n",
    "nest.SetStatus(epop1, \"V_m\", Vms)"
   ]
  },
  {
   "cell_type": "markdown",
   "metadata": {},
   "source": [
    "### generating populations of neurons with deterministic connections\n",
    "-  connected using synapse specifications for two populations of ten neurons each\n",
    "-  for more complete guide use [Connect](http://www.nest-simulator.org/connection-management/) page\n"
   ]
  },
  {
   "cell_type": "code",
   "execution_count": 3,
   "metadata": {},
   "outputs": [
    {
     "name": "stdout",
     "output_type": "stream",
     "text": [
      "-70.0 -55.0\n",
      "(1, 6)\n",
      "(2, 7)\n",
      "(3, 8)\n",
      "(4, 9)\n",
      "(5, 10)\n"
     ]
    },
    {
     "data": {
      "image/png": "[encoded data removed]",
      "text/plain": [
       "<matplotlib.figure.Figure at 0x7fd30c4ee350>"
      ]
     },
     "metadata": {
      "needs_background": "light"
     },
     "output_type": "display_data"
    }
   ],
   "source": [
    "import pylab as pl\n",
    "import nest\n",
    "import numpy as np \n",
    "\n",
    "nest.ResetKernel()\n",
    "\n",
    "pop1 = nest.Create(\"iaf_psc_alpha\", 5)\n",
    "nest.SetStatus(pop1, {\"I_e\": 376.0})\n",
    "V_reset,V_th = nest.GetStatus(pop1, [\"V_reset\",\"V_th\"])[0]\n",
    "\n",
    "print V_reset, V_th\n",
    "for neuron in pop1:\n",
    "    nest.SetStatus([neuron], {\"V_m\": V_reset+(V_th-V_reset)*np.random.rand()})\n",
    "# print nest.GetStatus(pop1, \"V_m\")\n",
    "\n",
    "pop2 = nest.Create(\"iaf_psc_alpha\", 5)\n",
    "multimeter = nest.Create(\"multimeter\", 5)\n",
    "\n",
    "nest.SetStatus(multimeter, {\"withtime\":True, \"record_from\":[\"V_m\"]})\n",
    "\n",
    "# If no connectivity pattern is specified, the populations are \n",
    "# connected via the default rule, namely all_to_all. Each neuron\n",
    "# of pop1 is connected to every neuron in pop2, resulting in \n",
    "# 10^2 connections.\n",
    "# nest.Connect(pop1, pop2, syn_spec={\"weight\":20.0})\n",
    "\n",
    "# Alternatively, the neurons can be connected with the one_to_one. \n",
    "# This means that the first neuron in pop1 is connected to the \n",
    "# first neuron in pop2, the second to the second, etc., \n",
    "# creating ten connections in total\n",
    "nest.Connect(pop1, pop2, 'one_to_one', syn_spec={'weight':20.0, 'delay':1.0})\n",
    "\n",
    "# print pop1\n",
    "# print pop2\n",
    "conn = nest.GetConnections(pop1)\n",
    "for i in nest.GetStatus(conn, ['source','target']):\n",
    "    print i\n",
    "\n",
    "# there is no connection for pop2\n",
    "# the multimeters are connected using the default rule\n",
    "nest.Connect(multimeter, pop2, \"one_to_one\") #\n",
    "\n",
    "\n",
    "\n",
    "nest.Simulate(200)\n",
    "pl.figure(1)\n",
    "for i in range(3):\n",
    "    dmm = nest.GetStatus(multimeter)[i]\n",
    "    Vms = dmm[\"events\"][\"V_m\"]\n",
    "    ts = dmm[\"events\"][\"times\"]\n",
    "    pl.plot(ts,Vms, label=i)\n",
    "pl.legend()\n",
    "pl.show()\n"
   ]
  },
  {
   "cell_type": "markdown",
   "metadata": {},
   "source": [
    "#### connecting populations with random connections\n",
    " we often want to look at networks with a sparser connectivity than all-to-all. Here we introduce four connectivity patterns which generate random connections between two populations of neurons.\n",
    " -  fixed_indegree\n",
    " -  fixed_outdegree\n",
    " -  fixed_total_number\n",
    " -  pairwise_bernoulli\n",
    " \n",
    " "
   ]
  },
  {
   "cell_type": "code",
   "execution_count": 102,
   "metadata": {},
   "outputs": [
    {
     "name": "stdout",
     "output_type": "stream",
     "text": [
      "(2, 7)\n",
      "(1, 9)\n",
      "(3, 9)\n",
      "(2, 10)\n",
      "(5, 10)\n"
     ]
    }
   ],
   "source": [
    "import pylab as pl\n",
    "import nest\n",
    "\n",
    "nest.ResetKernel()\n",
    "\n",
    "d = 1.0     # delay ms\n",
    "Je = 2.0    # weight for excitatory synapse\n",
    "Ke = 5     # indegree for exc\n",
    "Ji = -4.0   # weight for inhibitory synapse\n",
    "Ki = 4     # indegree for inh\n",
    "\n",
    "epop1 = nest.Create(\"iaf_psc_alpha\", 6)\n",
    "ipop1 = nest.Create(\"iaf_psc_alpha\", 5)\n",
    "\n",
    "conn_dict_ex = {\"rule\": \"fixed_indegree\", \"indegree\": Ke}\n",
    "# conn_dict_in = {\"rule\": \"fixed_indegree\", \"indegree\": Ki}\n",
    "# conn_dict_in = {\"rule\": \"fixed_outdegree\", \"outdegree\": Ki}\n",
    "# conn_dict_in = {\"rule\":\"fixed_total_number\", \"N\":10}\n",
    "conn_dict_in = {\"rule\":\"pairwise_bernoulli\", \n",
    "                \"p\":0.1, \n",
    "                \"autapses\":False,\n",
    "                \"multapses\":False}\n",
    "# all conn_spec can have autapses and multapses keywords\n",
    "syn_dict_ex = {\"delay\": d, \"weight\": Je}\n",
    "syn_dict_in = {\"delay\": d, \"weight\": Ji}\n",
    "\n",
    "nest.Connect(epop1, ipop1, conn_dict_ex, syn_dict_ex)\n",
    "nest.Connect(ipop1, epop1, \n",
    "             conn_spec=conn_dict_in, \n",
    "             syn_spec=syn_dict_in)\n",
    "econn = nest.GetConnections(epop1)\n",
    "iconn = nest.GetConnections(ipop1)\n",
    "# for i in nest.GetStatus(econn, [\"target\", \"source\"]):\n",
    "#     print i\n",
    "for i in nest.GetStatus(iconn, [\"target\", \"source\"]):\n",
    "    print i\n",
    "\n",
    "    "
   ]
  },
  {
   "cell_type": "markdown",
   "metadata": {},
   "source": [
    "Now each neuron in the target population ipop1 has Ke incoming random connections chosen from the source population epop1 with weight Je and delay d, and each neuron in the target population epop1 has Ki incoming random connections chosen from the source population ipop1 with weight Ji and delay d.\n",
    "\n",
    "Another connectivity pattern available is **fixed_total_number**. Here n connections (keyword **N**) are created by randomly drawing source neurons from the populations pre and target neurons from the population post.\n",
    "\n",
    "When choosing the connectivity rule **pairwise_bernoulli** connections are generated by iterating through all possible source-target pairs and creating each connection with the probability p (keyword **p**).\n",
    "\n",
    "In addition to the rule specific parameters indegree, outdegree, N and p, the **conn_spec** can contain the keywords **autapses** and **multapses** (set to False or True) allowing or forbidding self-connections and <font color='red'> multiple connections </font> between two neurons, respectively."
   ]
  },
  {
   "cell_type": "markdown",
   "metadata": {},
   "source": [
    "### Specifying the behaviour of devices\n",
    "creates a poisson_generator which is only active between 100 and 150ms"
   ]
  },
  {
   "cell_type": "code",
   "execution_count": 7,
   "metadata": {},
   "outputs": [],
   "source": [
    "pg = nest.Create(\"poisson_generator\")\n",
    "nest.SetStatus(pg, {\"start\": 100.0, \"stop\": 150.0})"
   ]
  },
  {
   "cell_type": "markdown",
   "metadata": {},
   "source": [
    "### accessed the data recorded by devices\n",
    "-  to_memory (default: True),\n",
    "-  to_file (default: False) \n",
    "-  to_screen (default: False)\n",
    "\n",
    "more information at [RecordingDevice](http://www.nest-simulator.org/helpindex/cc/RecordingDevice.html)"
   ]
  },
  {
   "cell_type": "code",
   "execution_count": 8,
   "metadata": {},
   "outputs": [],
   "source": [
    "recdict = {\"to_memory\" : False, \"to_file\" : True, \"label\" : \"epop_mp\"} # label is output filename\n",
    "mm1 = nest.Create(\"multimeter\", params=recdict)"
   ]
  },
  {
   "cell_type": "markdown",
   "metadata": {},
   "source": [
    "### Resetting simulations\n",
    "-  **ResetKernel()**  This gets rid of all nodes you have created, any customised models you created, and resets the internal clock to 0.\n",
    "-  **ResetNetwork()** when you need to run a simulation in a loop, for example to test different parameter settings. It resets all nodes to their default configuration and wipes the data from recording devices"
   ]
  },
  {
   "cell_type": "markdown",
   "metadata": {},
   "source": [
    "## Connecting networks with synapses\n",
    "\n",
    "-  Connecting with synapse models"
   ]
  },
  {
   "cell_type": "code",
   "execution_count": 103,
   "metadata": {},
   "outputs": [
    {
     "name": "stdout",
     "output_type": "stream",
     "text": [
      "((1, 4), (1, 4), (1, 5), (1, 6), (3, 5), (3, 6))\n"
     ]
    }
   ],
   "source": [
    "import pylab as pl\n",
    "import nest\n",
    "\n",
    "nest.ResetKernel()\n",
    "\n",
    "d = 1.0     # delay ms\n",
    "K = 2\n",
    "\n",
    "\n",
    "epop1 = nest.Create(\"iaf_psc_alpha\", 3)\n",
    "epop2 = nest.Create(\"iaf_psc_alpha\", 3)\n",
    "\n",
    "conn_dict = {\"rule\": \"fixed_indegree\", \"indegree\": K}\n",
    "syn_dict = {\"model\": \"stdp_synapse\", \"alpha\": 1.0}\n",
    "\n",
    "nest.Connect(epop1, epop2, conn_dict, syn_dict)\n",
    "# nest.GetConnections(target=epop2)\n",
    "# nest.GetConnections(synapse_model=\"stdp_synapse\")\n",
    "# nest.GetConnections(epop1, epop2, \"stdp_synapse\")\n",
    "\n",
    "conns = nest.GetConnections(epop1, synapse_model=\"stdp_synapse\")\n",
    "print nest.GetStatus(conns, ['source','target'])"
   ]
  },
  {
   "cell_type": "markdown",
   "metadata": {},
   "source": [
    "### Distributing synapse parameters"
   ]
  },
  {
   "cell_type": "code",
   "execution_count": 104,
   "metadata": {},
   "outputs": [
    {
     "name": "stdout",
     "output_type": "stream",
     "text": [
      "(array('l', [1, 4, 0, 14, 0]), array('l', [1, 5, 0, 14, 1]), array('l', [1, 6, 0, 14, 2]), array('l', [2, 4, 0, 14, 3]), array('l', [2, 5, 0, 14, 4]), array('l', [2, 6, 0, 14, 5]), array('l', [3, 4, 0, 14, 6]), array('l', [3, 5, 0, 14, 7]), array('l', [3, 6, 0, 14, 8]))\n",
      " \n",
      "((1, 4), (1, 5), (1, 6), (2, 4), (2, 5), (2, 6), (3, 4), (3, 5), (3, 6))\n"
     ]
    }
   ],
   "source": [
    "import pylab as pl\n",
    "import nest\n",
    "\n",
    "nest.ResetKernel()\n",
    "\n",
    "d = 1.0     # delay ms\n",
    "K = 2\n",
    "\n",
    "\n",
    "pop1 = nest.Create(\"iaf_psc_alpha\", 3)\n",
    "pop2 = nest.Create(\"iaf_psc_alpha\", 3)\n",
    "\n",
    "alpha_min = 0.1\n",
    "alpha_max = 2.\n",
    "w_min = 0.5 \n",
    "w_max = 5.\n",
    "\n",
    "syn_dict = {\"model\": \"stdp_synapse\", \n",
    "            \"alpha\": {\"distribution\": \"uniform\", \"low\": alpha_min, \"high\": alpha_max},\n",
    "            \"weight\": {\"distribution\": \"uniform\", \"low\": w_min, \"high\": w_max},\n",
    "            \"delay\": 1.0}\n",
    "\n",
    "nest.Connect(pop1, pop2, \"all_to_all\", syn_dict)\n",
    "# nest.GetConnections() without argument return all the connections\n",
    "# in the network\n",
    "print nest.GetConnections()\n",
    "print ' '\n",
    "conns = nest.GetConnections(pop1)\n",
    "print nest.GetStatus(conns, ['source','target'])\n",
    "\n",
    "\n",
    "# print nest.GetStatus(conns)[0].keys()\n",
    "# print nest.GetStatus(conns)[0]"
   ]
  },
  {
   "cell_type": "code",
   "execution_count": 122,
   "metadata": {},
   "outputs": [
    {
     "data": {
      "image/png": "[encoded data removed]",
      "text/plain": [
       "<matplotlib.figure.Figure at 0x7ff47dbd8250>"
      ]
     },
     "metadata": {},
     "output_type": "display_data"
    }
   ],
   "source": [
    "import pylab as pl\n",
    "import nest\n",
    "\n",
    "nest.ResetKernel()\n",
    "\n",
    "d = 1.0     # delay ms\n",
    "K = 2\n",
    "\n",
    "\n",
    "pop1 = nest.Create(\"iaf_psc_alpha\", 50)\n",
    "pop2 = nest.Create(\"iaf_psc_alpha\", 50)\n",
    "\n",
    "w_min = 0.5 \n",
    "w_max = 5.\n",
    "\n",
    "syn_dict = {\"model\": \"static_synapse\", \n",
    "            \"weight\": {\"distribution\": \"uniform\", \"low\": w_min, \"high\": w_max},\n",
    "            \"delay\": 1.0}\n",
    "syn_dict = {\"model\": \"static_synapse\", \n",
    "            \"weight\": {\"distribution\": \"normal\", \"mu\": 0., \"sigma\": 1.},\n",
    "            \"delay\": 1.0}\n",
    "syn_dict = {\"model\": \"static_synapse\", \n",
    "            \"weight\": {\"distribution\": \"binomial\", \"n\": 50, \"p\": .1},\n",
    "            \"delay\": 1.0}\n",
    "syn_dict = {\"model\": \"static_synapse\", \n",
    "            \"weight\": {\"distribution\": \"gamma\", \"order\": 2., \"scale\": 2.},\n",
    "            \"delay\": 1.0}\n",
    "\n",
    "\n",
    "nest.Connect(pop1, pop2, \"all_to_all\", syn_dict)\n",
    "# nest.GetConnections() without argument return all the connections\n",
    "# in the network\n",
    "# print nest.GetConnections()\n",
    "\n",
    "conns = nest.GetConnections(pop1)\n",
    "weights = []\n",
    "for i in nest.GetStatus(conns, ['source','target', 'weight']):\n",
    "    weights.append(i[2])\n",
    "\n",
    "pl.hist(weights);\n",
    "# print nest.GetStatus(conns)[0].keys()\n",
    "# print nest.GetStatus(conns)[0]"
   ]
  },
  {
   "cell_type": "markdown",
   "metadata": {},
   "source": [
    "-  Each connection id is a 5-tuple or, if available, a NumPy array with the following five entries: source-gid, target-gid, target-thread, synapse-id, port"
   ]
  },
  {
   "cell_type": "markdown",
   "metadata": {},
   "source": [
    "## Topologically structured networks\n",
    "-  Full documentation for usage of the topology module is present in [NEST Topology Users Manual (NTUM)](http://www.nest-simulator.org/wp-content/uploads/2015/04/Topology_UserManual.pdf)\n",
    "*  **The nest.topology module**\n",
    ">   1. Defining layers\n",
    ">   2. Defining connection profile\n",
    ">   3. Connecting layers\n",
    ">   4. Auxillary"
   ]
  },
  {
   "cell_type": "code",
   "execution_count": 16,
   "metadata": {},
   "outputs": [],
   "source": [
    "import nest.topology as topp\n",
    "# my_layer_dict = {...} \n",
    "# my_layer = topp.CreateLayer(my_layer_dict)"
   ]
  },
  {
   "cell_type": "markdown",
   "metadata": {},
   "source": [
    "- Defining layers\n",
    ">   1. on grid\n",
    ">   2. off grid"
   ]
  },
  {
   "cell_type": "code",
   "execution_count": 17,
   "metadata": {},
   "outputs": [],
   "source": [
    "# on grid\n",
    "import nest\n",
    "import nest.topology as topp\n",
    "nest.ResetKernel()\n",
    "\n",
    "layer_dict_ex = {\"extent\" : [2.,2.], # the size of the layer in mm\n",
    "                 \"rows\" : 10, # the number of rows in this layer ...\n",
    "                 \"columns\" : 10, # ... and the number of columns\n",
    "                 \"elements\" : \"iaf_psc_alpha\"} # the element at each (x,y) coordinate in the grid\n",
    "my_layer = topp.CreateLayer(layer_dict_ex)"
   ]
  },
  {
   "cell_type": "code",
   "execution_count": 18,
   "metadata": {},
   "outputs": [],
   "source": [
    "# off grid\n",
    "import nest\n",
    "import numpy as np\n",
    "\n",
    "nest.ResetKernel()\n",
    "# grid with jitter\n",
    "jit = 0.03\n",
    "\n",
    "xs = np.arange(-0.5,.501,0.1)\n",
    "poss = [[x,y] for y in xs for x in xs]\n",
    "poss = [[p[0]+np.random.uniform(-jit,jit),p[1]+np.random.uniform(-jit,jit)] for p in poss]\n",
    "layer_dict_ex = {\"positions\": poss,\n",
    "        \"extent\" : [1.1,1.1],\n",
    "        \"elements\" : \"iaf_psc_alpha\"}\n",
    "my_layer = topp.CreateLayer(layer_dict_ex)"
   ]
  },
  {
   "cell_type": "markdown",
   "metadata": {},
   "source": [
    "### <font color='red' > I skipped some materials from topology structure </font>"
   ]
  },
  {
   "cell_type": "markdown",
   "metadata": {},
   "source": [
    "### visualising and querying the network structure\n",
    "[link](http://www.nest-simulator.org/pynest-topology/#hl_api_PlotLayer)"
   ]
  },
  {
   "cell_type": "code",
   "execution_count": 19,
   "metadata": {},
   "outputs": [
    {
     "data": {
      "image/png": "[encoded data removed]",
      "text/plain": [
       "<matplotlib.figure.Figure at 0x7f2abe0180d0>"
      ]
     },
     "metadata": {},
     "output_type": "display_data"
    }
   ],
   "source": [
    "% matplotlib inline\n",
    "import nest.topology as tp\n",
    "import matplotlib.pyplot as plt\n",
    "\n",
    "# create a layer\n",
    "l = tp.CreateLayer({'rows'      : 11,\n",
    "                    'columns'   : 11,\n",
    "                    'extent'    : [11.0, 11.0],\n",
    "                    'elements'  : 'iaf_psc_alpha'})\n",
    "\n",
    "# plot layer with all its nodes\n",
    "tp.PlotLayer(l)\n",
    "plt.show()"
   ]
  },
  {
   "cell_type": "code",
   "execution_count": 20,
   "metadata": {},
   "outputs": [
    {
     "data": {
      "image/png": "[encoded data removed]",
      "text/plain": [
       "<matplotlib.figure.Figure at 0x7f2abe0baa10>"
      ]
     },
     "metadata": {},
     "output_type": "display_data"
    }
   ],
   "source": [
    "% matplotlib inline\n",
    "import nest.topology as tp\n",
    "import matplotlib.pyplot as plt\n",
    "import nest\n",
    "nest.ResetKernel()\n",
    "\n",
    "# create a layer\n",
    "l = tp.CreateLayer({'rows'      : 11,\n",
    "                    'columns'   : 11,\n",
    "                    'extent'    : [11.0, 11.0],\n",
    "                    'elements'  : 'iaf_psc_alpha'})\n",
    "\n",
    "# connectivity specifications with a mask\n",
    "conndict = {'connection_type': 'divergent',\n",
    "             'mask': {'rectangular': {'lower_left'  : [-2.0, -1.0],\n",
    "                                      'upper_right' : [2.0, 1.0]}}}\n",
    "\n",
    "# connect layer l with itself according to the given\n",
    "# specifications\n",
    "tp.ConnectLayers(l, l, conndict)\n",
    "\n",
    "# plot the targets of the source neuron with GID 5\n",
    "tp.PlotTargets([5], l)\n",
    "plt.show()"
   ]
  },
  {
   "cell_type": "code",
   "execution_count": 21,
   "metadata": {},
   "outputs": [
    {
     "name": "stderr",
     "output_type": "stream",
     "text": [
      "/home/abolfazl/prog/install-dir/build_nest-simulator-2.16.0/lib/python2.7/site-packages/nest/lib/hl_api_helper.py:91: UserWarning: \n",
      "GetChilden is deprecated and will be removed in NEST 3.0. Use GIDCollection instead.\n",
      "  warnings.warn('\\n' + text)   # add LF so text starts on new line\n"
     ]
    },
    {
     "data": {
      "image/png": "[encoded data removed]",
      "text/plain": [
       "<matplotlib.figure.Figure at 0x7f2abe0bad90>"
      ]
     },
     "metadata": {},
     "output_type": "display_data"
    }
   ],
   "source": [
    "% matplotlib inline\n",
    "import nest.topology as tp\n",
    "import matplotlib.pyplot as plt\n",
    "import nest\n",
    "\n",
    "nest.ResetKernel()\n",
    "# create a layer\n",
    "l = tp.CreateLayer({'rows'      : 11,\n",
    "                    'columns'   : 11,\n",
    "                    'extent'    : [11.0, 11.0],\n",
    "                    'elements'  : 'iaf_psc_alpha'})\n",
    "\n",
    "# connectivity specifications\n",
    "mask_dict = {'rectangular': {'lower_left'  : [-2.0, -1.0],\n",
    "                             'upper_right' : [2.0, 1.0]}}\n",
    "kernel_dict = {'gaussian': {'p_center' : 1.0,\n",
    "                            'sigma'    : 1.0}}\n",
    "conndict = {'connection_type': 'divergent',\n",
    "            'mask'   : mask_dict,\n",
    "            'kernel' : kernel_dict}\n",
    "\n",
    "# connect layer l with itself according to the given\n",
    "# specifications\n",
    "tp.ConnectLayers(l, l, conndict)\n",
    "\n",
    "# set up figure\n",
    "fig, ax = plt.subplots()\n",
    "\n",
    "# plot layer nodes\n",
    "tp.PlotLayer(l, fig)\n",
    "\n",
    "# choose center element of the layer as source node\n",
    "ctr_elem = tp.FindCenterElement(l)\n",
    "\n",
    "# plot mask and kernel of the center element\n",
    "tp.PlotKernel(ax, ctr_elem, mask=mask_dict, kern=kernel_dict)"
   ]
  },
  {
   "cell_type": "code",
   "execution_count": 11,
   "metadata": {},
   "outputs": [
    {
     "data": {
      "text/plain": [
       "{u'delay': 1.0,\n",
       " u'has_delay': True,\n",
       " u'num_connections': 2,\n",
       " u'receptor_type': 0,\n",
       " u'requires_symmetric': False,\n",
       " u'sizeof': 32,\n",
       " u'synapse_model': <SLILiteral: static_synapse>,\n",
       " u'weight': 1.0,\n",
       " u'weight_recorder': -1}"
      ]
     },
     "execution_count": 11,
     "metadata": {},
     "output_type": "execute_result"
    }
   ],
   "source": [
    "import nest\n",
    "nest.GetDefaults('static_synapse')\n"
   ]
  },
  {
   "cell_type": "code",
   "execution_count": null,
   "metadata": {},
   "outputs": [],
   "source": []
  }
 ],
 "metadata": {
  "kernelspec": {
   "display_name": "Python 2",
   "language": "python",
   "name": "python2"
  },
  "language_info": {
   "codemirror_mode": {
    "name": "ipython",
    "version": 2
   },
   "file_extension": ".py",
   "mimetype": "text/x-python",
   "name": "python",
   "nbconvert_exporter": "python",
   "pygments_lexer": "ipython2",
   "version": "2.7.15rc1"
  }
 },
 "nbformat": 4,
 "nbformat_minor": 2
}
