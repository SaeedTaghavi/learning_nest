{
 "cells": [
  {
   "cell_type": "markdown",
   "metadata": {},
   "source": [
    "### Memory management in NEST"
   ]
  },
  {
   "cell_type": "code",
   "execution_count": 12,
   "metadata": {},
   "outputs": [
    {
     "name": "stdout",
     "output_type": "stream",
     "text": [
      "I_e =  (0.0,)\n",
      "V_reset and V_the are  ((-70.0, -55.0),)\n",
      "I_e =  (376.0,)\n"
     ]
    },
    {
     "data": {
      "image/png": "[encoded data removed]",
      "text/plain": [
       "<matplotlib.figure.Figure at 0x7f14eee50a10>"
      ]
     },
     "metadata": {},
     "output_type": "display_data"
    }
   ],
   "source": [
    "import nest\n",
    "import pylab as pl #to plot figures\n",
    "% matplotlib inline \n",
    "\n",
    "nest.ResetKernel()\n",
    "dt = 0.1\n",
    "nthreads = 1\n",
    "nest.SetKernelStatus({'resolution': dt, 'local_num_threads': nthreads})\n",
    "\n",
    "neuron = nest.Create('iaf_psc_alpha')\n",
    "\n",
    "print 'I_e = ', nest.GetStatus(neuron, \"I_e\")\n",
    "print 'V_reset and V_the are ', nest.GetStatus(neuron, [\"V_reset\", \"V_th\"])\n",
    "\n",
    "nest.SetStatus(neuron,{'I_e':376.0})\n",
    "print 'I_e = ', nest.GetStatus(neuron, \"I_e\")\n",
    "\n",
    "# create a multimeter, a device we can use to record the \n",
    "# membrane voltage of a neuron over time.\n",
    "multimeter = nest.Create(\"multimeter\")\n",
    "\n",
    "# We set its property withtime such that it will also \n",
    "# record the points in time at which it samples the \n",
    "# membrane voltage. The property record_from expects\n",
    "# a list of the names of the variables we would like to record.\n",
    "nest.SetStatus(multimeter,{\"withtime\":True,\n",
    "                           \"record_from\":[\"V_m\"], \n",
    "                           \"interval\":2*dt, \n",
    "                           \"to_file\": True, \n",
    "                           \"label\": \"my_multimeter\"}\n",
    "              )\n",
    "\n",
    "spikedetector = nest.Create(\"spike_detector\",\n",
    "                            params={\"withgid\" : True,\n",
    "                                    \"withtime\": True})\n",
    "\n",
    "nest.Connect(multimeter, neuron)\n",
    "nest.Connect(neuron, spikedetector)\n",
    "\n",
    "# start the simulation\n",
    "nest.Simulate(1000.0) # time in ms\n",
    "\n",
    "# Extracting and plotting data from devices\n",
    "dmm = nest.GetStatus(multimeter)[0]\n",
    "Vms = dmm[\"events\"][\"V_m\"]\n",
    "ts = dmm[\"events\"][\"times\"]\n",
    "# pl.figure(1)\n",
    "# pl.plot(ts,Vms)\n",
    "\n",
    "# print nest.GetStatus(spikedetector)[0].keys()\n",
    "# print nest.GetStatus(spikedetector)[0]['events']\n",
    "dSD = nest.GetStatus(spikedetector,keys='events')[0]\n",
    "evs = dSD['senders']\n",
    "ts = dSD[\"times\"]\n",
    "pl.figure(2)\n",
    "pl.plot(ts,evs,'.');\n",
    "# pl.show()"
   ]
  },
  {
   "cell_type": "code",
   "execution_count": null,
   "metadata": {},
   "outputs": [],
   "source": []
  }
 ],
 "metadata": {
  "kernelspec": {
   "display_name": "Python 2",
   "language": "python",
   "name": "python2"
  },
  "language_info": {
   "codemirror_mode": {
    "name": "ipython",
    "version": 2
   },
   "file_extension": ".py",
   "mimetype": "text/x-python",
   "name": "python",
   "nbconvert_exporter": "python",
   "pygments_lexer": "ipython2",
   "version": "2.7.12"
  }
 },
 "nbformat": 4,
 "nbformat_minor": 2
}
