{
 "cells": [
  {
   "cell_type": "markdown",
   "metadata": {},
   "source": [
    "## connection management"
   ]
  },
  {
   "cell_type": "code",
   "execution_count": 4,
   "metadata": {},
   "outputs": [
    {
     "name": "stdout",
     "output_type": "stream",
     "text": [
      "((1, 4),)\n",
      "((2, 5),)\n",
      "((3, 6),)\n"
     ]
    }
   ],
   "source": [
    "# one_to_one\n",
    "\n",
    "from nest import *\n",
    "\n",
    "ResetKernel()\n",
    "\n",
    "n = 3\n",
    "A = Create(\"iaf_psc_alpha\", n)\n",
    "B = Create(\"spike_detector\", n)\n",
    "Connect(A, B, 'one_to_one')\n",
    "# weight = 1.5\n",
    "# delay = 0.5\n",
    "# syn_dict = {'weight':weight, 'delay':delay}\n",
    "# Connect([A[0]], [B[0]], syn_spec= syn_dict)\n",
    "\n",
    "\n",
    "\n",
    "for i in range(3):\n",
    "    conn = GetConnections([A[i]])\n",
    "    print GetStatus(conn, ['source','target'])\n",
    "\n"
   ]
  },
  {
   "cell_type": "code",
   "execution_count": 9,
   "metadata": {},
   "outputs": [
    {
     "name": "stdout",
     "output_type": "stream",
     "text": [
      "((1, 3), (1, 4))\n",
      "((2, 3), (2, 4))\n",
      "((3, 1), (3, 2))\n",
      "((4, 1), (4, 2))\n"
     ]
    }
   ],
   "source": [
    "# all_to_all\n",
    "\n",
    "from nest import *\n",
    "\n",
    "ResetKernel()\n",
    "\n",
    "n, m = 2, 2\n",
    "A = Create(\"iaf_psc_alpha\", n)\n",
    "B = Create(\"iaf_psc_alpha\", n)\n",
    "\n",
    "# B = Create(\"spike_detector\", m)\n",
    "Connect(A, B)\n",
    "Connect(B, A)\n",
    "\n",
    "for i in range(n):\n",
    "    conn = GetConnections([A[i]])\n",
    "    print GetStatus(conn, ['source','target'])\n",
    "\n",
    "for i in range(n):\n",
    "    conn = GetConnections([B[i]])\n",
    "    print GetStatus(conn, ['source','target'])\n"
   ]
  },
  {
   "cell_type": "code",
   "execution_count": 12,
   "metadata": {},
   "outputs": [
    {
     "name": "stdout",
     "output_type": "stream",
     "text": [
      "((1, 6), (1, 11), (2, 7), (2, 11), (2, 6), (2, 8), (2, 10), (2, 9), (2, 10), (4, 9), (4, 8), (5, 7))\n"
     ]
    }
   ],
   "source": [
    "#fixed_in_degree\n",
    "from nest import *\n",
    "ResetKernel()\n",
    "\n",
    "n, m, N = 5, 6, 2\n",
    "A = Create(\"iaf_psc_alpha\", n)\n",
    "B = Create(\"iaf_psc_alpha\", m)\n",
    "conn_dict = {'rule': 'fixed_indegree', 'indegree': N}\n",
    "Connect(A, B, conn_dict)\n",
    "\n",
    "# for i in range(n):\n",
    "#     conn = GetConnections([A[i]])\n",
    "#     print GetStatus(conn, ['source','target'])\n",
    "\n",
    "# print ' '\n",
    "\n",
    "# conns = GetConnections(target=B)\n",
    "conns = GetConnections(source=A)\n",
    "print GetStatus(conns, ['source', 'target'])"
   ]
  },
  {
   "cell_type": "code",
   "execution_count": 6,
   "metadata": {},
   "outputs": [
    {
     "name": "stdout",
     "output_type": "stream",
     "text": [
      "[[0 0 0 1 1 1 1]\n",
      " [0 0 0 1 1 1 1]\n",
      " [0 0 0 1 1 1 1]\n",
      " [0 0 0 0 0 0 0]\n",
      " [0 0 0 0 0 0 0]\n",
      " [0 0 0 0 0 0 0]\n",
      " [0 0 0 0 0 0 0]]\n"
     ]
    }
   ],
   "source": [
    "import numpy as np\n",
    "def adj_list_to_matrix(adj_list):\n",
    "    A = np.asarray(adj_list)\n",
    "    \n",
    "    n = np.max(np.asarray(adj_list))\n",
    "    adj_matrix = np.zeros((n,n), dtype=int)\n",
    "\n",
    "    for i in range(A.shape[0]):\n",
    "        for j, k in adj_list[i]:\n",
    "            adj_matrix[j-1,k-1] = 1\n",
    "    return adj_matrix\n",
    "\n",
    "adj_list = [((1, 4), (1, 5), (1, 6), (1, 7)),\n",
    "            ((2, 4), (2, 5), (2, 6), (2, 7)),\n",
    "            ((3, 4), (3, 5), (3, 6), (3, 7))]\n",
    "\n",
    "print adj_list_to_matrix(adj_list)\n"
   ]
  },
  {
   "cell_type": "code",
   "execution_count": 15,
   "metadata": {},
   "outputs": [
    {
     "name": "stdout",
     "output_type": "stream",
     "text": [
      "((1, 8), (1, 7))\n",
      "((2, 9), (2, 7))\n",
      "((3, 6), (3, 7))\n",
      "((4, 8), (4, 11))\n",
      "((5, 9), (5, 8))\n"
     ]
    }
   ],
   "source": [
    "#fixed_out_degree\n",
    "from nest import *\n",
    "ResetKernel()\n",
    "\n",
    "n, m, N = 5, 6, 2\n",
    "A = Create(\"iaf_psc_alpha\", n)\n",
    "B = Create(\"iaf_psc_alpha\", m)\n",
    "conn_dict = {'rule': 'fixed_outdegree', 'outdegree': N}\n",
    "Connect(A, B, conn_dict)\n",
    "\n",
    "for i in range(n):\n",
    "    conn = GetConnections([A[i]])\n",
    "    print GetStatus(conn, ['source','target'])\n"
   ]
  },
  {
   "cell_type": "markdown",
   "metadata": {},
   "source": [
    "-  fixed-total-number\n",
    "\n",
    "The nodes in pre are randomly connected with the nodes in post such that the total number of connections equals N."
   ]
  },
  {
   "cell_type": "code",
   "execution_count": 16,
   "metadata": {},
   "outputs": [
    {
     "name": "stdout",
     "output_type": "stream",
     "text": [
      "((1, 7), (1, 9))\n",
      "((2, 6), (2, 11), (2, 7), (2, 11), (2, 10))\n",
      "((3, 9),)\n",
      "((4, 7), (4, 7))\n",
      "()\n"
     ]
    }
   ],
   "source": [
    "# fixed-total-number\n",
    "from nest import *\n",
    "ResetKernel()\n",
    "\n",
    "n, m, N = 5, 6, 10\n",
    "A = Create(\"iaf_psc_alpha\", n)\n",
    "B = Create(\"iaf_psc_alpha\", m)\n",
    "conn_dict = {'rule': 'fixed_total_number', 'N': N}\n",
    "Connect(A, B, conn_dict)\n",
    "\n",
    "for i in range(n):\n",
    "    conn = GetConnections([A[i]])\n",
    "    print GetStatus(conn, ['source','target'])\n"
   ]
  },
  {
   "cell_type": "markdown",
   "metadata": {},
   "source": [
    "-  pairwise-bernoulli\n",
    "\n",
    "For each possible pair of nodes from pre and post, a connection is created with probability p."
   ]
  },
  {
   "cell_type": "code",
   "execution_count": 14,
   "metadata": {},
   "outputs": [
    {
     "name": "stdout",
     "output_type": "stream",
     "text": [
      "((1, 8), (1, 11))\n",
      "((2, 6),)\n",
      "((3, 8), (3, 11))\n",
      "()\n",
      "()\n"
     ]
    }
   ],
   "source": [
    "from nest import *\n",
    "\n",
    "ResetKernel()\n",
    "\n",
    "n, m, p = 5, 6, 0.2\n",
    "A = Create(\"iaf_psc_alpha\", n)\n",
    "B = Create(\"iaf_psc_alpha\", m)\n",
    "conn_dict = {'rule': 'pairwise_bernoulli', 'p': p}\n",
    "Connect(A, B, conn_dict)        \n",
    "\n",
    "\n",
    "for i in range(n):\n",
    "    conn = GetConnections([A[i]])\n",
    "    print GetStatus(conn, ['source','target'])\n"
   ]
  },
  {
   "cell_type": "code",
   "execution_count": 16,
   "metadata": {},
   "outputs": [],
   "source": [
    "helpdesk()"
   ]
  },
  {
   "cell_type": "code",
   "execution_count": null,
   "metadata": {},
   "outputs": [],
   "source": []
  }
 ],
 "metadata": {
  "kernelspec": {
   "display_name": "Python 2",
   "language": "python",
   "name": "python2"
  },
  "language_info": {
   "codemirror_mode": {
    "name": "ipython",
    "version": 2
   },
   "file_extension": ".py",
   "mimetype": "text/x-python",
   "name": "python",
   "nbconvert_exporter": "python",
   "pygments_lexer": "ipython2",
   "version": "2.7.15+"
  }
 },
 "nbformat": 4,
 "nbformat_minor": 2
}
