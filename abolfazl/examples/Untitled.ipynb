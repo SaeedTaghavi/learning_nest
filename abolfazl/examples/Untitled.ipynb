{
 "cells": [
  {
   "cell_type": "code",
   "execution_count": 1,
   "metadata": {},
   "outputs": [],
   "source": [
    "import nest"
   ]
  },
  {
   "cell_type": "code",
   "execution_count": 2,
   "metadata": {},
   "outputs": [],
   "source": [
    "neuron = nest.Create(\"iaf_psc_alpha\")"
   ]
  },
  {
   "cell_type": "code",
   "execution_count": 5,
   "metadata": {},
   "outputs": [
    {
     "data": {
      "text/plain": [
       "{u'C_m': 250.0,\n",
       " u'Ca': 0.0,\n",
       " u'E_L': -70.0,\n",
       " u'I_e': 0.0,\n",
       " u'V_m': -70.0,\n",
       " u'V_min': -inf,\n",
       " u'V_reset': -70.0,\n",
       " u'V_th': -55.0,\n",
       " u'archiver_length': 0,\n",
       " u'available': (999,),\n",
       " u'beta_Ca': 0.001,\n",
       " u'capacity': (1000,),\n",
       " u'element_type': <SLILiteral: neuron>,\n",
       " u'elementsize': 680,\n",
       " u'frozen': False,\n",
       " u'global_id': 0,\n",
       " u'instantiations': (1,),\n",
       " u'local': True,\n",
       " u'model': <SLILiteral: iaf_psc_alpha>,\n",
       " u'node_uses_wfr': False,\n",
       " u'recordables': (<SLILiteral: I_syn_ex>,\n",
       "  <SLILiteral: I_syn_in>,\n",
       "  <SLILiteral: V_m>,\n",
       "  <SLILiteral: weighted_spikes_ex>,\n",
       "  <SLILiteral: weighted_spikes_in>),\n",
       " u'supports_precise_spikes': False,\n",
       " u'synaptic_elements': {},\n",
       " u't_ref': 2.0,\n",
       " u't_spike': -1.0,\n",
       " u'tau_Ca': 10000.0,\n",
       " u'tau_m': 10.0,\n",
       " u'tau_minus': 20.0,\n",
       " u'tau_minus_triplet': 110.0,\n",
       " u'tau_syn_ex': 2.0,\n",
       " u'tau_syn_in': 2.0,\n",
       " u'thread': 0,\n",
       " u'thread_local_id': -1,\n",
       " u'type_id': <SLILiteral: iaf_psc_alpha>,\n",
       " u'vp': -1}"
      ]
     },
     "execution_count": 5,
     "metadata": {},
     "output_type": "execute_result"
    }
   ],
   "source": [
    "nest.GetDefaults(\"iaf_psc_alpha\")"
   ]
  },
  {
   "cell_type": "code",
   "execution_count": 8,
   "metadata": {},
   "outputs": [],
   "source": [
    "parameter_list = [{\"I_e\": 200.0, \"tau_m\": 20.0},\n",
    "                  {\"I_e\": 150.0, \"tau_m\": 30.0}]\n",
    "epop3 = nest.Create(\"iaf_psc_alpha\", 2, parameter_list)\n"
   ]
  },
  {
   "cell_type": "code",
   "execution_count": 10,
   "metadata": {},
   "outputs": [
    {
     "data": {
      "text/plain": [
       "((200.0, 20.0), (150.0, 30.0))"
      ]
     },
     "execution_count": 10,
     "metadata": {},
     "output_type": "execute_result"
    }
   ],
   "source": [
    "nest.GetStatus(epop3, [\"I_e\", \"tau_m\"])"
   ]
  },
  {
   "cell_type": "code",
   "execution_count": 12,
   "metadata": {},
   "outputs": [],
   "source": [
    "import numpy as np\n",
    "Vth = -55.\n",
    "Vrest = -70.\n",
    "for neuron in epop3:\n",
    "    nest.SetStatus([neuron], {\"V_m\": Vrest+(Vth-Vrest)*np.random.rand()})\n"
   ]
  },
  {
   "cell_type": "code",
   "execution_count": 13,
   "metadata": {},
   "outputs": [],
   "source": [
    "dVms = [{\"V_m\": Vrest+(Vth-Vrest)*np.random.rand()} for x in epop3]"
   ]
  },
  {
   "cell_type": "code",
   "execution_count": 15,
   "metadata": {},
   "outputs": [],
   "source": [
    "nest.SetStatus(epop3, dVms)"
   ]
  },
  {
   "cell_type": "code",
   "execution_count": 16,
   "metadata": {},
   "outputs": [],
   "source": [
    "import nest"
   ]
  },
  {
   "cell_type": "code",
   "execution_count": 17,
   "metadata": {},
   "outputs": [
    {
     "data": {
      "text/plain": [
       "(u'ac_generator',\n",
       " u'aeif_cond_alpha',\n",
       " u'aeif_cond_alpha_RK5',\n",
       " u'aeif_cond_alpha_multisynapse',\n",
       " u'aeif_cond_beta_multisynapse',\n",
       " u'aeif_cond_exp',\n",
       " u'aeif_psc_alpha',\n",
       " u'aeif_psc_delta',\n",
       " u'aeif_psc_exp',\n",
       " u'amat2_psc_exp',\n",
       " u'bernoulli_synapse',\n",
       " u'bernoulli_synapse_lbl',\n",
       " u'cont_delay_synapse',\n",
       " u'cont_delay_synapse_hpc',\n",
       " u'cont_delay_synapse_lbl',\n",
       " u'correlation_detector',\n",
       " u'correlomatrix_detector',\n",
       " u'correlospinmatrix_detector',\n",
       " u'dc_generator',\n",
       " u'diffusion_connection',\n",
       " u'diffusion_connection_lbl',\n",
       " u'erfc_neuron',\n",
       " u'gamma_sup_generator',\n",
       " u'gap_junction',\n",
       " u'gap_junction_lbl',\n",
       " u'gauss_rate_ipn',\n",
       " u'gif_cond_exp',\n",
       " u'gif_cond_exp_multisynapse',\n",
       " u'gif_pop_psc_exp',\n",
       " u'gif_psc_exp',\n",
       " u'gif_psc_exp_multisynapse',\n",
       " u'ginzburg_neuron',\n",
       " u'hh_cond_exp_traub',\n",
       " u'hh_psc_alpha',\n",
       " u'hh_psc_alpha_gap',\n",
       " u'ht_neuron',\n",
       " u'ht_synapse',\n",
       " u'ht_synapse_hpc',\n",
       " u'ht_synapse_lbl',\n",
       " u'iaf_chs_2007',\n",
       " u'iaf_chxk_2008',\n",
       " u'iaf_cond_alpha',\n",
       " u'iaf_cond_alpha_mc',\n",
       " u'iaf_cond_exp',\n",
       " u'iaf_cond_exp_sfa_rr',\n",
       " u'iaf_neuron',\n",
       " u'iaf_psc_alpha',\n",
       " u'iaf_psc_alpha_canon',\n",
       " u'iaf_psc_alpha_multisynapse',\n",
       " u'iaf_psc_alpha_presc',\n",
       " u'iaf_psc_delta',\n",
       " u'iaf_psc_delta_canon',\n",
       " u'iaf_psc_exp',\n",
       " u'iaf_psc_exp_multisynapse',\n",
       " u'iaf_psc_exp_ps',\n",
       " u'iaf_psc_exp_ps_lossless',\n",
       " u'iaf_tum_2000',\n",
       " u'inhomogeneous_poisson_generator',\n",
       " u'izhikevich',\n",
       " u'lin_rate_ipn',\n",
       " u'lin_rate_opn',\n",
       " u'mat2_psc_exp',\n",
       " u'mcculloch_pitts_neuron',\n",
       " u'mip_generator',\n",
       " u'multimeter',\n",
       " u'noise_generator',\n",
       " u'parrot_neuron',\n",
       " u'parrot_neuron_ps',\n",
       " u'poisson_generator',\n",
       " u'poisson_generator_ps',\n",
       " u'pp_pop_psc_delta',\n",
       " u'pp_psc_delta',\n",
       " u'ppd_sup_generator',\n",
       " u'pulsepacket_generator',\n",
       " u'quantal_stp_synapse',\n",
       " u'quantal_stp_synapse_hpc',\n",
       " u'quantal_stp_synapse_lbl',\n",
       " u'rate_connection_delayed',\n",
       " u'rate_connection_delayed_lbl',\n",
       " u'rate_connection_instantaneous',\n",
       " u'rate_connection_instantaneous_lbl',\n",
       " u'rate_transformer_gauss',\n",
       " u'rate_transformer_lin',\n",
       " u'rate_transformer_sigmoid',\n",
       " u'rate_transformer_sigmoid_gg_1998',\n",
       " u'rate_transformer_tanh',\n",
       " u'rate_transformer_threshold_lin',\n",
       " u'siegert_neuron',\n",
       " u'sigmoid_rate_gg_1998_ipn',\n",
       " u'sigmoid_rate_ipn',\n",
       " u'sinusoidal_gamma_generator',\n",
       " u'sinusoidal_poisson_generator',\n",
       " u'sli_neuron',\n",
       " u'spike_detector',\n",
       " u'spike_dilutor',\n",
       " u'spike_generator',\n",
       " u'spin_detector',\n",
       " u'static_synapse',\n",
       " u'static_synapse_hom_w',\n",
       " u'static_synapse_hom_w_hpc',\n",
       " u'static_synapse_hom_w_lbl',\n",
       " u'static_synapse_hpc',\n",
       " u'static_synapse_lbl',\n",
       " u'stdp_dopamine_synapse',\n",
       " u'stdp_dopamine_synapse_hpc',\n",
       " u'stdp_dopamine_synapse_lbl',\n",
       " u'stdp_facetshw_synapse_hom',\n",
       " u'stdp_facetshw_synapse_hom_hpc',\n",
       " u'stdp_facetshw_synapse_hom_lbl',\n",
       " u'stdp_pl_synapse_hom',\n",
       " u'stdp_pl_synapse_hom_hpc',\n",
       " u'stdp_pl_synapse_hom_lbl',\n",
       " u'stdp_synapse',\n",
       " u'stdp_synapse_hom',\n",
       " u'stdp_synapse_hom_hpc',\n",
       " u'stdp_synapse_hom_lbl',\n",
       " u'stdp_synapse_hpc',\n",
       " u'stdp_synapse_lbl',\n",
       " u'stdp_triplet_synapse',\n",
       " u'stdp_triplet_synapse_hpc',\n",
       " u'stdp_triplet_synapse_lbl',\n",
       " u'step_current_generator',\n",
       " u'subnet',\n",
       " u'tanh_rate_ipn',\n",
       " u'tanh_rate_opn',\n",
       " u'threshold_lin_rate_ipn',\n",
       " u'threshold_lin_rate_opn',\n",
       " u'topology_layer_free',\n",
       " u'topology_layer_free_3d',\n",
       " u'topology_layer_grid',\n",
       " u'topology_layer_grid_3d',\n",
       " u'tsodyks2_synapse',\n",
       " u'tsodyks2_synapse_hpc',\n",
       " u'tsodyks2_synapse_lbl',\n",
       " u'tsodyks_synapse',\n",
       " u'tsodyks_synapse_hom',\n",
       " u'tsodyks_synapse_hom_hpc',\n",
       " u'tsodyks_synapse_hom_lbl',\n",
       " u'tsodyks_synapse_hpc',\n",
       " u'tsodyks_synapse_lbl',\n",
       " u'vogels_sprekeler_synapse',\n",
       " u'vogels_sprekeler_synapse_hpc',\n",
       " u'vogels_sprekeler_synapse_lbl',\n",
       " u'voltmeter',\n",
       " u'volume_transmitter',\n",
       " u'weight_recorder')"
      ]
     },
     "execution_count": 17,
     "metadata": {},
     "output_type": "execute_result"
    }
   ],
   "source": [
    "nest.Models()"
   ]
  },
  {
   "cell_type": "code",
   "execution_count": 18,
   "metadata": {},
   "outputs": [
    {
     "data": {
      "text/plain": [
       "{u'A_minus': 1.5,\n",
       " u'A_plus': 1.0,\n",
       " u'Wmax': 200.0,\n",
       " u'Wmin': 0.0,\n",
       " u'b': 0.0,\n",
       " u'c': 0.0,\n",
       " u'delay': 1.0,\n",
       " u'has_delay': True,\n",
       " u'n': 0.0,\n",
       " u'num_connections': 0,\n",
       " u'receptor_type': 0,\n",
       " u'requires_symmetric': False,\n",
       " u'synapse_model': <SLILiteral: stdp_dopamine_synapse>,\n",
       " u'tau_c': 1000.0,\n",
       " u'tau_n': 200.0,\n",
       " u'tau_plus': 20.0,\n",
       " u'vt': -1,\n",
       " u'weight': 1.0,\n",
       " u'weight_recorder': -1}"
      ]
     },
     "execution_count": 18,
     "metadata": {},
     "output_type": "execute_result"
    }
   ],
   "source": [
    "nest.GetDefaults(\"stdp_dopamine_synapse\")"
   ]
  },
  {
   "cell_type": "code",
   "execution_count": null,
   "metadata": {},
   "outputs": [],
   "source": []
  }
 ],
 "metadata": {
  "kernelspec": {
   "display_name": "Python 2",
   "language": "python",
   "name": "python2"
  },
  "language_info": {
   "codemirror_mode": {
    "name": "ipython",
    "version": 2
   },
   "file_extension": ".py",
   "mimetype": "text/x-python",
   "name": "python",
   "nbconvert_exporter": "python",
   "pygments_lexer": "ipython2",
   "version": "2.7.15+"
  }
 },
 "nbformat": 4,
 "nbformat_minor": 2
}
