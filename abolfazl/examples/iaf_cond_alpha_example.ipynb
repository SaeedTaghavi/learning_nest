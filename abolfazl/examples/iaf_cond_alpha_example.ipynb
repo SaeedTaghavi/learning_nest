{
 "cells": [
  {
   "cell_type": "code",
   "execution_count": 19,
   "metadata": {},
   "outputs": [
    {
     "name": "stdout",
     "output_type": "stream",
     "text": [
      "I_e =  (0.0,)\n",
      "V_reset and V_the are  ((-60.0, -55.0),)\n",
      "I_e =  (250.1,)\n"
     ]
    },
    {
     "data": {
      "image/png": "[encoded data removed]",
      "text/plain": [
       "<matplotlib.figure.Figure at 0x7fa293452310>"
      ]
     },
     "metadata": {},
     "output_type": "display_data"
    }
   ],
   "source": [
    "import nest\n",
    "import pylab as pl #to plot figures\n",
    "from sys import exit\n",
    "# just for jupyter notebooks to put figures inside the document\n",
    "% matplotlib inline \n",
    "\n",
    "nest.ResetKernel()\n",
    "\n",
    "\n",
    "neuron = nest.Create('iaf_cond_alpha')\n",
    "\n",
    "\n",
    "\n",
    "print 'I_e = ', nest.GetStatus(neuron, \"I_e\")\n",
    "print 'V_reset and V_the are ', nest.GetStatus(neuron, [\"V_reset\", \"V_th\"])\n",
    "\n",
    "# stimulate the neuron with a constant current\n",
    "nest.SetStatus(neuron,{'I_e':250.10})\n",
    "print 'I_e = ', nest.GetStatus(neuron, \"I_e\")\n",
    "\n",
    "multimeter = nest.Create(\"multimeter\")\n",
    "\n",
    "nest.SetStatus(multimeter,{\"withtime\":True,\n",
    "                           \"record_from\":[\"V_m\"]})\n",
    "\n",
    "spikedetector = nest.Create(\"spike_detector\",\n",
    "                            params={\"withgid\" : True,\n",
    "                                    \"withtime\": True})\n",
    "\n",
    "nest.Connect(multimeter, neuron)\n",
    "nest.Connect(neuron, spikedetector)\n",
    "\n",
    "nest.Simulate(1000.0) # time in ms\n",
    "\n",
    "\n",
    "dmm = nest.GetStatus(multimeter)[0]\n",
    "Vms = dmm[\"events\"][\"V_m\"]\n",
    "ts = dmm[\"events\"][\"times\"]\n",
    "pl.figure(1)\n",
    "pl.plot(ts,Vms)\n",
    "\n",
    "# print nest.GetStatus(spikedetector)[0].keys()\n",
    "# print nest.GetStatus(spikedetector)[0]['events']\n",
    "dSD = nest.GetStatus(spikedetector,keys='events')[0]\n",
    "evs = dSD['senders']\n",
    "ts = dSD[\"times\"]\n",
    "# pl.figure(2)\n",
    "# pl.plot(ts,evs,'.')\n",
    "# pl.show()"
   ]
  },
  {
   "cell_type": "code",
   "execution_count": null,
   "metadata": {},
   "outputs": [],
   "source": []
  }
 ],
 "metadata": {
  "kernelspec": {
   "display_name": "Python 2",
   "language": "python",
   "name": "python2"
  },
  "language_info": {
   "codemirror_mode": {
    "name": "ipython",
    "version": 2
   },
   "file_extension": ".py",
   "mimetype": "text/x-python",
   "name": "python",
   "nbconvert_exporter": "python",
   "pygments_lexer": "ipython2",
   "version": "2.7.12"
  }
 },
 "nbformat": 4,
 "nbformat_minor": 2
}
