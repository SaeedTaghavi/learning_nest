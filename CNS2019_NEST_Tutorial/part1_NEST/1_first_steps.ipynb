{
 "cells": [
  {
   "cell_type": "markdown",
   "metadata": {
    "slideshow": {
     "slide_type": "slide"
    }
   },
   "source": [
    "# PyNEST - First Steps"
   ]
  },
  {
   "cell_type": "markdown",
   "metadata": {
    "slideshow": {
     "slide_type": "-"
    }
   },
   "source": [
    "**Modeling networks of spiking neurons using NEST**\n",
    "\n",
    "**EITN spring school 2019, 11.04.2019**\n",
    "\n",
    "**[Alexander van Meegen](mailto:a.van.meegen@fz-juelich.de)**"
   ]
  },
  {
   "cell_type": "markdown",
   "metadata": {
    "slideshow": {
     "slide_type": "subslide"
    }
   },
   "source": [
    "This notebook guides through your first steps using NEST. It shows\n",
    "* how to get help\n",
    "* how to create and simulate a single neuron\n",
    "* how to visualize the output\n",
    "\n",
    "Essentially, this is a reproduction of the 'Hello World!' notebook with added explanations. \n",
    "\n",
    "For more details see [part 1 of the official PyNEST tutorial](https://nest-simulator.readthedocs.io/en/latest/tutorials/pynest_tutorial/part_1_neurons_and_simple_neural_networks.html)."
   ]
  },
  {
   "cell_type": "code",
   "execution_count": 1,
   "metadata": {
    "slideshow": {
     "slide_type": "subslide"
    }
   },
   "outputs": [
    {
     "name": "stdout",
     "output_type": "stream",
     "text": [
      "Populating the interactive namespace from numpy and matplotlib\n"
     ]
    }
   ],
   "source": [
    "# populate namespace with pylab functions and stuff\n",
    "%pylab inline"
   ]
  },
  {
   "cell_type": "code",
   "execution_count": 2,
   "metadata": {
    "slideshow": {
     "slide_type": "-"
    }
   },
   "outputs": [],
   "source": [
    "import nest # import NEST module"
   ]
  },
  {
   "cell_type": "markdown",
   "metadata": {
    "slideshow": {
     "slide_type": "slide"
    }
   },
   "source": [
    "## Getting help"
   ]
  },
  {
   "cell_type": "code",
   "execution_count": 3,
   "metadata": {
    "slideshow": {
     "slide_type": "subslide"
    }
   },
   "outputs": [
    {
     "name": "stdout",
     "output_type": "stream",
     "text": [
      "Help on function Models in module nest.lib.hl_api_models:\n",
      "\n",
      "Models(*args, **kwargs)\n",
      "    Return a tuple of all available model (neurons, devices and\n",
      "    synapses) names, sorted by name.\n",
      "    \n",
      "    Parameters\n",
      "    ----------\n",
      "    mtype : str, optional\n",
      "        Use mtype='nodes' to only see neuron and device models,\n",
      "        or mtype='synapses' to only see synapse models.\n",
      "    sel : str, optional\n",
      "        String used to filter the result list and only return models\n",
      "        containing it.\n",
      "    \n",
      "    Returns\n",
      "    -------\n",
      "    tuple:\n",
      "        Available model names\n",
      "    \n",
      "    Notes\n",
      "    -----\n",
      "    - Synapse model names ending with '_hpc' provide minimal memory\n",
      "      requirements by using thread-local target neuron IDs and fixing\n",
      "      the `rport` to 0.\n",
      "    - Synapse model names ending with '_lbl' allow to assign an individual\n",
      "      integer label (`synapse_label`) to created synapses at the cost\n",
      "      of increased memory requirements.\n",
      "    \n",
      "    Raises\n",
      "    ------\n",
      "    ValueError\n",
      "        Description\n",
      "\n"
     ]
    }
   ],
   "source": [
    "# information about functions with Python's help() ...\n",
    "help(nest.Models)"
   ]
  },
  {
   "cell_type": "code",
   "execution_count": 4,
   "metadata": {
    "slideshow": {
     "slide_type": "subslide"
    }
   },
   "outputs": [],
   "source": [
    "# ... or IPython's question mark\n",
    "nest.Models?"
   ]
  },
  {
   "cell_type": "code",
   "execution_count": 5,
   "metadata": {
    "slideshow": {
     "slide_type": "subslide"
    }
   },
   "outputs": [
    {
     "data": {
      "text/plain": [
       "(u'ac_generator',\n",
       " u'aeif_cond_alpha',\n",
       " u'aeif_cond_alpha_RK5',\n",
       " u'aeif_cond_alpha_multisynapse',\n",
       " u'aeif_cond_beta_multisynapse',\n",
       " u'aeif_cond_exp',\n",
       " u'aeif_psc_alpha',\n",
       " u'aeif_psc_delta',\n",
       " u'aeif_psc_exp',\n",
       " u'amat2_psc_exp',\n",
       " u'bernoulli_synapse',\n",
       " u'bernoulli_synapse_lbl',\n",
       " u'cont_delay_synapse',\n",
       " u'cont_delay_synapse_hpc',\n",
       " u'cont_delay_synapse_lbl',\n",
       " u'correlation_detector',\n",
       " u'correlomatrix_detector',\n",
       " u'correlospinmatrix_detector',\n",
       " u'dc_generator',\n",
       " u'diffusion_connection',\n",
       " u'diffusion_connection_lbl',\n",
       " u'erfc_neuron',\n",
       " u'gamma_sup_generator',\n",
       " u'gap_junction',\n",
       " u'gap_junction_lbl',\n",
       " u'gauss_rate_ipn',\n",
       " u'gif_cond_exp',\n",
       " u'gif_cond_exp_multisynapse',\n",
       " u'gif_pop_psc_exp',\n",
       " u'gif_psc_exp',\n",
       " u'gif_psc_exp_multisynapse',\n",
       " u'ginzburg_neuron',\n",
       " u'hh_cond_exp_traub',\n",
       " u'hh_psc_alpha',\n",
       " u'hh_psc_alpha_gap',\n",
       " u'ht_neuron',\n",
       " u'ht_synapse',\n",
       " u'ht_synapse_hpc',\n",
       " u'ht_synapse_lbl',\n",
       " u'iaf_chs_2007',\n",
       " u'iaf_chxk_2008',\n",
       " u'iaf_cond_alpha',\n",
       " u'iaf_cond_alpha_mc',\n",
       " u'iaf_cond_exp',\n",
       " u'iaf_cond_exp_sfa_rr',\n",
       " u'iaf_neuron',\n",
       " u'iaf_psc_alpha',\n",
       " u'iaf_psc_alpha_canon',\n",
       " u'iaf_psc_alpha_multisynapse',\n",
       " u'iaf_psc_alpha_presc',\n",
       " u'iaf_psc_delta',\n",
       " u'iaf_psc_delta_canon',\n",
       " u'iaf_psc_exp',\n",
       " u'iaf_psc_exp_multisynapse',\n",
       " u'iaf_psc_exp_ps',\n",
       " u'iaf_psc_exp_ps_lossless',\n",
       " u'iaf_tum_2000',\n",
       " u'inhomogeneous_poisson_generator',\n",
       " u'izhikevich',\n",
       " u'lin_rate_ipn',\n",
       " u'lin_rate_opn',\n",
       " u'mat2_psc_exp',\n",
       " u'mcculloch_pitts_neuron',\n",
       " u'mip_generator',\n",
       " u'multimeter',\n",
       " u'noise_generator',\n",
       " u'parrot_neuron',\n",
       " u'parrot_neuron_ps',\n",
       " u'poisson_generator',\n",
       " u'poisson_generator_ps',\n",
       " u'pp_pop_psc_delta',\n",
       " u'pp_psc_delta',\n",
       " u'ppd_sup_generator',\n",
       " u'pulsepacket_generator',\n",
       " u'quantal_stp_synapse',\n",
       " u'quantal_stp_synapse_hpc',\n",
       " u'quantal_stp_synapse_lbl',\n",
       " u'rate_connection_delayed',\n",
       " u'rate_connection_delayed_lbl',\n",
       " u'rate_connection_instantaneous',\n",
       " u'rate_connection_instantaneous_lbl',\n",
       " u'rate_transformer_gauss',\n",
       " u'rate_transformer_lin',\n",
       " u'rate_transformer_sigmoid',\n",
       " u'rate_transformer_sigmoid_gg_1998',\n",
       " u'rate_transformer_tanh',\n",
       " u'rate_transformer_threshold_lin',\n",
       " u'siegert_neuron',\n",
       " u'sigmoid_rate_gg_1998_ipn',\n",
       " u'sigmoid_rate_ipn',\n",
       " u'sinusoidal_gamma_generator',\n",
       " u'sinusoidal_poisson_generator',\n",
       " u'sli_neuron',\n",
       " u'spike_detector',\n",
       " u'spike_dilutor',\n",
       " u'spike_generator',\n",
       " u'spin_detector',\n",
       " u'static_synapse',\n",
       " u'static_synapse_hom_w',\n",
       " u'static_synapse_hom_w_hpc',\n",
       " u'static_synapse_hom_w_lbl',\n",
       " u'static_synapse_hpc',\n",
       " u'static_synapse_lbl',\n",
       " u'stdp_dopamine_synapse',\n",
       " u'stdp_dopamine_synapse_hpc',\n",
       " u'stdp_dopamine_synapse_lbl',\n",
       " u'stdp_facetshw_synapse_hom',\n",
       " u'stdp_facetshw_synapse_hom_hpc',\n",
       " u'stdp_facetshw_synapse_hom_lbl',\n",
       " u'stdp_pl_synapse_hom',\n",
       " u'stdp_pl_synapse_hom_hpc',\n",
       " u'stdp_pl_synapse_hom_lbl',\n",
       " u'stdp_synapse',\n",
       " u'stdp_synapse_hom',\n",
       " u'stdp_synapse_hom_hpc',\n",
       " u'stdp_synapse_hom_lbl',\n",
       " u'stdp_synapse_hpc',\n",
       " u'stdp_synapse_lbl',\n",
       " u'stdp_triplet_synapse',\n",
       " u'stdp_triplet_synapse_hpc',\n",
       " u'stdp_triplet_synapse_lbl',\n",
       " u'step_current_generator',\n",
       " u'subnet',\n",
       " u'tanh_rate_ipn',\n",
       " u'tanh_rate_opn',\n",
       " u'threshold_lin_rate_ipn',\n",
       " u'threshold_lin_rate_opn',\n",
       " u'topology_layer_free',\n",
       " u'topology_layer_free_3d',\n",
       " u'topology_layer_grid',\n",
       " u'topology_layer_grid_3d',\n",
       " u'tsodyks2_synapse',\n",
       " u'tsodyks2_synapse_hpc',\n",
       " u'tsodyks2_synapse_lbl',\n",
       " u'tsodyks_synapse',\n",
       " u'tsodyks_synapse_hom',\n",
       " u'tsodyks_synapse_hom_hpc',\n",
       " u'tsodyks_synapse_hom_lbl',\n",
       " u'tsodyks_synapse_hpc',\n",
       " u'tsodyks_synapse_lbl',\n",
       " u'vogels_sprekeler_synapse',\n",
       " u'vogels_sprekeler_synapse_hpc',\n",
       " u'vogels_sprekeler_synapse_lbl',\n",
       " u'voltmeter',\n",
       " u'volume_transmitter',\n",
       " u'weight_recorder')"
      ]
     },
     "execution_count": 5,
     "metadata": {},
     "output_type": "execute_result"
    }
   ],
   "source": [
    "# list neuron models\n",
    "nest.Models()"
   ]
  },
  {
   "cell_type": "code",
   "execution_count": 6,
   "metadata": {
    "slideshow": {
     "slide_type": "subslide"
    }
   },
   "outputs": [
    {
     "data": {
      "text/html": [
       "<style>.modal-body p { display: block;unicode-bidi: embed; font-family: monospace; white-space: pre; }</style>"
      ],
      "text/plain": [
       "<IPython.core.display.HTML object>"
      ]
     },
     "metadata": {},
     "output_type": "display_data"
    },
    {
     "data": {
      "application/javascript": [
       "\n",
       "       require(\n",
       "           [\"base/js/dialog\"],\n",
       "           function(dialog) {\n",
       "               dialog.modal({\n",
       "                   title: 'iaf_psc_exp.hlp',\n",
       "                   body: \"Name: iaf_psc_exp - Leaky integrate-and-fire neuron model with exponential \\n PSCs.\\n\\nDescription:\\n\\niaf_psc_expp is an implementation of a leaky integrate-and-fire model \\nwith exponential shaped postsynaptic currents (PSCs) according to [1]. \\nThus, postsynaptic currents have an infinitely short rise time. \\nThe threshold crossing is followed by an absolute refractory period (t_ref) \\nduring which the membrane potential is clamped to the resting potential \\nand spiking is prohibited. \\nThe linear subthresold dynamics is integrated by the Exact \\nIntegration scheme [2]. The neuron dynamics is solved on the time \\ngrid given by the computation step size. Incoming as well as emitted \\nspikes are forced to that grid. \\nAn additional state variable and the corresponding differential \\nequation represents a piecewise constant external current. \\nThe general framework for the consistent formulation of systems with \\nneuron like dynamics interacting by point events is described in \\n[2]. A flow chart can be found in [3].\\n\\n\\nParameters:\\n\\nThe following parameters can be set in the status dictionary. \\nE_L\\t double\\t- Resting membrane potential in mV. \\nC_m\\t double\\t- Capacity of the membrane in pF \\ntau_m\\t double\\t- Membrane time constant in ms. \\ntau_syn_ex   double\\t- Time constant of postsynaptic excitatory currents in ms \\ntau_syn_in   double\\t- Time constant of postsynaptic inhibitory currents in ms \\nt_ref\\t double\\t- Duration of refractory period (V_m = V_reset) in ms. \\nV_m\\t double\\t- Membrane potential in mV \\nV_th\\t double\\t- Spike threshold in mV. \\nV_reset\\t double\\t- Reset membrane potential after a spike in mV. \\nI_e\\t double\\t- Constant input current in pA. \\nt_spike\\t double\\t- Point in time of last spike in ms.\\n\\n\\nReceives:\\n\\nSpikeEvent, CurrentEvent, DataLoggingRequest\\n\\n\\nSends:\\n\\nSpikeEvent\\n\\n\\nRemarks:\\n\\nIf tau_m is very close to tau_syn_ex or tau_syn_in, the model \\nwill numerically behave as if tau_m is equal to tau_syn_ex or \\ntau_syn_in, respectively, to avoid numerical instabilities. \\nFor details, please see IAF_neurons_singularity.ipynb in the \\nNEST source code (docs/model_details). \\niaf_psc_exp can handle current input in two ways: Current input \\nthrough receptor_type 0 are handled as stepwise constant current \\ninput as in other iaf models, i.e., this current directly enters \\nthe membrane potential equation. Current input through \\nreceptor_type 1, in contrast, is filtered through an exponential \\nkernel with the time constant of the excitatory synapse, \\ntau_syn_ex. For an example application, see [4].\\n\\n\\nReferences:\\n\\n[1] Misha Tsodyks, Asher Uziel, and Henry Markram (2000) Synchrony Generation \\nin Recurrent Networks with Frequency-Dependent Synapses, The Journal of \\nNeuroscience, 2000, Vol. 20 RC50 p. 1-5 \\n[2] Rotter S & Diesmann M (1999) Exact simulation of time-invariant linear \\nsystems with applications to neuronal modeling. Biologial Cybernetics \\n81:381-402. \\n[3] Diesmann M, Gewaltig M-O, Rotter S, & Aertsen A (2001) State space \\nanalysis of synchronous spiking in cortical neural networks. \\nNeurocomputing 38-40:565-571. \\n[4] Schuecker J, Diesmann M, Helias M (2015) Modulated escape from a \\nmetastable state driven by colored noise. \\nPhysical Review E 92:052119\\n\\n\\nAuthor:\\n\\nMoritz Helias\\n\\n\\nFirstVersion:\\n\\nMarch 2006\\n\\n\\nSeeAlso:\\n\\niaf_psc_exp_ps\\n\\nSource:\\n\\n/home/saeed/prog/nest-simulator-2.16.0/models/iaf_psc_exp.h\\n\",\n",
       "                   buttons: {\n",
       "                       'close': {}\n",
       "                   }\n",
       "               });\n",
       "           }\n",
       "       );\n",
       "       "
      ],
      "text/plain": [
       "<IPython.core.display.Javascript object>"
      ]
     },
     "metadata": {},
     "output_type": "display_data"
    }
   ],
   "source": [
    "# choose LIF neuron with exponential synaptic currents: 'iaf_psc_exp'\n",
    "# look in documentation for model description\n",
    "# or (if not compiled with MPI)\n",
    "nest.help('iaf_psc_exp')"
   ]
  },
  {
   "cell_type": "markdown",
   "metadata": {
    "slideshow": {
     "slide_type": "slide"
    }
   },
   "source": [
    "## Creating a neuron"
   ]
  },
  {
   "cell_type": "code",
   "execution_count": 7,
   "metadata": {
    "slideshow": {
     "slide_type": "subslide"
    }
   },
   "outputs": [],
   "source": [
    "# before creating a new network,\n",
    "# reset the simulation kernel / remove all nodes\n",
    "nest.ResetKernel()"
   ]
  },
  {
   "cell_type": "code",
   "execution_count": 8,
   "metadata": {
    "slideshow": {
     "slide_type": "-"
    }
   },
   "outputs": [],
   "source": [
    "# create the neuron\n",
    "neuron = nest.Create('iaf_psc_exp')"
   ]
  },
  {
   "cell_type": "code",
   "execution_count": 9,
   "metadata": {
    "slideshow": {
     "slide_type": "-"
    }
   },
   "outputs": [
    {
     "data": {
      "text/plain": [
       "(1,)"
      ]
     },
     "execution_count": 9,
     "metadata": {},
     "output_type": "execute_result"
    }
   ],
   "source": [
    "# investigate the neuron\n",
    "\n",
    "# Create() just returns a list (tuple) with handles to the new nodes\n",
    "# (handles = integer numbers called ids)\n",
    "neuron"
   ]
  },
  {
   "cell_type": "code",
   "execution_count": 10,
   "metadata": {
    "slideshow": {
     "slide_type": "subslide"
    }
   },
   "outputs": [
    {
     "data": {
      "text/plain": [
       "({u'C_m': 250.0,\n",
       "  u'Ca': 0.0,\n",
       "  u'E_L': -70.0,\n",
       "  u'I_e': 0.0,\n",
       "  u'V_m': -70.0,\n",
       "  u'V_reset': -70.0,\n",
       "  u'V_th': -55.0,\n",
       "  u'archiver_length': 0,\n",
       "  u'beta_Ca': 0.001,\n",
       "  u'element_type': <SLILiteral: neuron>,\n",
       "  u'frozen': False,\n",
       "  u'global_id': 1,\n",
       "  u'local': True,\n",
       "  u'local_id': 1,\n",
       "  u'model': <SLILiteral: iaf_psc_exp>,\n",
       "  u'node_uses_wfr': False,\n",
       "  u'parent': 0,\n",
       "  u'recordables': (<SLILiteral: I_syn_ex>,\n",
       "   <SLILiteral: I_syn_in>,\n",
       "   <SLILiteral: V_m>,\n",
       "   <SLILiteral: weighted_spikes_ex>,\n",
       "   <SLILiteral: weighted_spikes_in>),\n",
       "  u'supports_precise_spikes': False,\n",
       "  u'synaptic_elements': {},\n",
       "  u't_ref': 2.0,\n",
       "  u't_spike': -1.0,\n",
       "  u'tau_Ca': 10000.0,\n",
       "  u'tau_m': 10.0,\n",
       "  u'tau_minus': 20.0,\n",
       "  u'tau_minus_triplet': 110.0,\n",
       "  u'tau_syn_ex': 2.0,\n",
       "  u'tau_syn_in': 2.0,\n",
       "  u'thread': 0,\n",
       "  u'thread_local_id': -1,\n",
       "  u'vp': 0},)"
      ]
     },
     "execution_count": 10,
     "metadata": {},
     "output_type": "execute_result"
    }
   ],
   "source": [
    "# current dynamical state/parameters of the neuron\n",
    "# note that the membrane voltage is at -70 mV\n",
    "nest.GetStatus(neuron)"
   ]
  },
  {
   "cell_type": "markdown",
   "metadata": {
    "slideshow": {
     "slide_type": "slide"
    }
   },
   "source": [
    "## Creating a spikegenerator"
   ]
  },
  {
   "cell_type": "code",
   "execution_count": 11,
   "metadata": {
    "slideshow": {
     "slide_type": "subslide"
    }
   },
   "outputs": [],
   "source": [
    "# create a spike generator\n",
    "spikegenerator = nest.Create('spike_generator')"
   ]
  },
  {
   "cell_type": "code",
   "execution_count": 12,
   "metadata": {
    "slideshow": {
     "slide_type": "-"
    }
   },
   "outputs": [
    {
     "data": {
      "text/plain": [
       "({u'allow_offgrid_spikes': False,\n",
       "  u'element_type': <SLILiteral: stimulator>,\n",
       "  u'frozen': False,\n",
       "  u'global_id': 2,\n",
       "  u'local': True,\n",
       "  u'local_id': 2,\n",
       "  u'model': <SLILiteral: spike_generator>,\n",
       "  u'node_uses_wfr': False,\n",
       "  u'origin': 0.0,\n",
       "  u'parent': 0,\n",
       "  u'precise_times': False,\n",
       "  u'shift_now_spikes': False,\n",
       "  u'spike_multiplicities': array([], dtype=int64),\n",
       "  u'spike_times': array([], dtype=float64),\n",
       "  u'spike_weights': array([], dtype=float64),\n",
       "  u'start': 0.0,\n",
       "  u'stop': 1.7976931348623157e+308,\n",
       "  u'supports_precise_spikes': False,\n",
       "  u'thread': 0,\n",
       "  u'thread_local_id': -1,\n",
       "  u'vp': 0},)"
      ]
     },
     "execution_count": 12,
     "metadata": {},
     "output_type": "execute_result"
    }
   ],
   "source": [
    "# check out 'spike_times' in its parameters\n",
    "nest.GetStatus(spikegenerator)"
   ]
  },
  {
   "cell_type": "code",
   "execution_count": 13,
   "metadata": {
    "slideshow": {
     "slide_type": "subslide"
    }
   },
   "outputs": [],
   "source": [
    "# set the spike times at 10 and 50 ms\n",
    "nest.SetStatus(spikegenerator, {'spike_times': [10., 50.]})"
   ]
  },
  {
   "cell_type": "markdown",
   "metadata": {
    "slideshow": {
     "slide_type": "slide"
    }
   },
   "source": [
    "## Creating a voltmeter"
   ]
  },
  {
   "cell_type": "code",
   "execution_count": 14,
   "metadata": {
    "slideshow": {
     "slide_type": "subslide"
    }
   },
   "outputs": [],
   "source": [
    "# create a voltmeter for recording\n",
    "voltmeter = nest.Create('voltmeter')"
   ]
  },
  {
   "cell_type": "code",
   "execution_count": 15,
   "metadata": {
    "slideshow": {
     "slide_type": "-"
    }
   },
   "outputs": [
    {
     "data": {
      "text/plain": [
       "(3,)"
      ]
     },
     "execution_count": 15,
     "metadata": {},
     "output_type": "execute_result"
    }
   ],
   "source": [
    "# investigate the voltmeter\n",
    "voltmeter"
   ]
  },
  {
   "cell_type": "code",
   "execution_count": 16,
   "metadata": {
    "slideshow": {
     "slide_type": "-"
    }
   },
   "outputs": [
    {
     "data": {
      "text/plain": [
       "({u'binary': False,\n",
       "  u'close_after_simulate': False,\n",
       "  u'close_on_reset': True,\n",
       "  u'element_type': <SLILiteral: recorder>,\n",
       "  u'events': {u'V_m': array([], dtype=float64),\n",
       "   u'senders': array([], dtype=int64),\n",
       "   u'times': array([], dtype=float64)},\n",
       "  u'fbuffer_size': -1,\n",
       "  u'file_extension': u'dat',\n",
       "  u'flush_after_simulate': True,\n",
       "  u'flush_records': False,\n",
       "  u'frozen': False,\n",
       "  u'global_id': 3,\n",
       "  u'interval': 1.0,\n",
       "  u'label': u'',\n",
       "  u'local': True,\n",
       "  u'local_id': 3,\n",
       "  u'model': <SLILiteral: voltmeter>,\n",
       "  u'n_events': 0,\n",
       "  u'node_uses_wfr': False,\n",
       "  u'offset': 0.0,\n",
       "  u'origin': 0.0,\n",
       "  u'parent': 0,\n",
       "  u'precision': 3,\n",
       "  u'record_from': (<SLILiteral: V_m>,),\n",
       "  u'record_to': (<SLILiteral: memory>,),\n",
       "  u'scientific': False,\n",
       "  u'start': 0.0,\n",
       "  u'stop': 1.7976931348623157e+308,\n",
       "  u'supports_precise_spikes': False,\n",
       "  u'thread': 0,\n",
       "  u'thread_local_id': -1,\n",
       "  u'time_in_steps': False,\n",
       "  u'to_accumulator': False,\n",
       "  u'to_file': False,\n",
       "  u'to_memory': True,\n",
       "  u'to_screen': False,\n",
       "  u'use_gid_in_filename': True,\n",
       "  u'vp': 0,\n",
       "  u'withgid': True,\n",
       "  u'withport': False,\n",
       "  u'withrport': False,\n",
       "  u'withtargetgid': False,\n",
       "  u'withtime': True,\n",
       "  u'withweight': False},)"
      ]
     },
     "execution_count": 16,
     "metadata": {},
     "output_type": "execute_result"
    }
   ],
   "source": [
    "# see that it records membrane voltage, senders, times\n",
    "nest.GetStatus(voltmeter)"
   ]
  },
  {
   "cell_type": "markdown",
   "metadata": {
    "slideshow": {
     "slide_type": "slide"
    }
   },
   "source": [
    "## Connecting"
   ]
  },
  {
   "cell_type": "code",
   "execution_count": null,
   "metadata": {
    "slideshow": {
     "slide_type": "subslide"
    }
   },
   "outputs": [],
   "source": [
    "# investigate Connect() function\n",
    "nest.Connect?"
   ]
  },
  {
   "cell_type": "code",
   "execution_count": null,
   "metadata": {
    "slideshow": {
     "slide_type": "subslide"
    }
   },
   "outputs": [],
   "source": [
    "# connect spike generator and voltmeter to the neuron\n",
    "nest.Connect(spikegenerator, neuron, syn_spec={'weight': 1e3})"
   ]
  },
  {
   "cell_type": "code",
   "execution_count": null,
   "metadata": {
    "slideshow": {
     "slide_type": "-"
    }
   },
   "outputs": [],
   "source": [
    "nest.Connect(voltmeter, neuron)"
   ]
  },
  {
   "cell_type": "markdown",
   "metadata": {
    "slideshow": {
     "slide_type": "slide"
    }
   },
   "source": [
    "## Simulating"
   ]
  },
  {
   "cell_type": "code",
   "execution_count": null,
   "metadata": {
    "slideshow": {
     "slide_type": "subslide"
    }
   },
   "outputs": [],
   "source": [
    "# run simulation for 100 ms\n",
    "nest.Simulate(100.)"
   ]
  },
  {
   "cell_type": "code",
   "execution_count": null,
   "metadata": {
    "slideshow": {
     "slide_type": "subslide"
    }
   },
   "outputs": [],
   "source": [
    "# look at nest's KernelStatus:\n",
    "# network_size (root node, neuron, spike generator, voltmeter)\n",
    "# num_connections\n",
    "# time (simulation duration)\n",
    "nest.GetKernelStatus()"
   ]
  },
  {
   "cell_type": "code",
   "execution_count": null,
   "metadata": {
    "slideshow": {
     "slide_type": "subslide"
    }
   },
   "outputs": [],
   "source": [
    "# note that voltmeter has recorded 99 events\n",
    "nest.GetStatus(voltmeter)"
   ]
  },
  {
   "cell_type": "code",
   "execution_count": null,
   "metadata": {
    "slideshow": {
     "slide_type": "subslide"
    }
   },
   "outputs": [],
   "source": [
    "# read out recording time and voltage from voltmeter\n",
    "times = nest.GetStatus(voltmeter)[0]['events']['times']\n",
    "voltages = nest.GetStatus(voltmeter)[0]['events']['V_m']"
   ]
  },
  {
   "cell_type": "markdown",
   "metadata": {
    "slideshow": {
     "slide_type": "slide"
    }
   },
   "source": [
    "## Plotting"
   ]
  },
  {
   "cell_type": "code",
   "execution_count": null,
   "metadata": {
    "slideshow": {
     "slide_type": "subslide"
    }
   },
   "outputs": [],
   "source": [
    "# plot results\n",
    "# units can be found in documentation\n",
    "pylab.plot(times, voltages, label='Neuron 1')\n",
    "pylab.xlabel('Time (ms)')\n",
    "pylab.ylabel('Membrane potential (mV)')\n",
    "pylab.title('Membrane potential')\n",
    "pylab.legend()"
   ]
  },
  {
   "cell_type": "code",
   "execution_count": null,
   "metadata": {
    "slideshow": {
     "slide_type": "subslide"
    }
   },
   "outputs": [],
   "source": [
    "# create the same plot with NEST's build-in plotting function\n",
    "import nest.voltage_trace"
   ]
  },
  {
   "cell_type": "code",
   "execution_count": null,
   "metadata": {
    "slideshow": {
     "slide_type": "-"
    }
   },
   "outputs": [],
   "source": [
    "nest.voltage_trace.from_device(voltmeter)"
   ]
  },
  {
   "cell_type": "markdown",
   "metadata": {
    "slideshow": {
     "slide_type": "slide"
    }
   },
   "source": [
    "## Bored?\n",
    "\n",
    "* Try to make the neuron spike (maybe use `0_hello_world.ipynb`)\n",
    "* Connect another neuron to the first neuron recieving that spike\n",
    "* Check out the [official PyNEST tutorials](https://nest-simulator.readthedocs.io/en/latest/tutorials/index.html), in particular\n",
    "  * part 1: Neurons and simple neural networks\n",
    "  * part 2: Populations of neurons"
   ]
  }
 ],
 "metadata": {
  "kernelspec": {
   "display_name": "Python 3",
   "language": "python",
   "name": "python3"
  },
  "language_info": {
   "codemirror_mode": {
    "name": "ipython",
    "version": 2
   },
   "file_extension": ".py",
   "mimetype": "text/x-python",
   "name": "python",
   "nbconvert_exporter": "python",
   "pygments_lexer": "ipython2",
   "version": "2.7.15+"
  },
  "livereveal": {
   "scroll": true
  }
 },
 "nbformat": 4,
 "nbformat_minor": 1
}
