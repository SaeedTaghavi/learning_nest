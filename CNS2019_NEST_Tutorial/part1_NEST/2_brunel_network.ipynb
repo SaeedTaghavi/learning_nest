{
 "cells": [
  {
   "cell_type": "markdown",
   "metadata": {
    "slideshow": {
     "slide_type": "slide"
    }
   },
   "source": [
    "# PyNEST - Brunel Network"
   ]
  },
  {
   "cell_type": "markdown",
   "metadata": {
    "slideshow": {
     "slide_type": "-"
    }
   },
   "source": [
    "**Modeling networks of spiking neurons using NEST**\n",
    "\n",
    "**EITN spring school 2019, 12.04.2019**\n",
    "\n",
    "**[Alexander van Meegen](mailto:a.van.meegen@fz-juelich.de)**"
   ]
  },
  {
   "cell_type": "markdown",
   "metadata": {
    "slideshow": {
     "slide_type": "subslide"
    }
   },
   "source": [
    "<img src=\"img/erdos-renyi-ei.png\" alt=\"sketch\" width=\"400\" align=\"center\"/>"
   ]
  },
  {
   "cell_type": "markdown",
   "metadata": {
    "slideshow": {
     "slide_type": "subslide"
    }
   },
   "source": [
    "Here, we will simulate a neural network reproducing the asynchronous irregular state described in\n",
    "\n",
    "`Brunel (2000) Dynamics of sparsely connected networks of excitatory and inhibitory spiking neurons. Journal of Computational Neuroscience 8(3):183-208`\n",
    "\n",
    "Adjusting the parameters appropriately, we can also reproduce the synchronous irregular / synchronous regular / asynchronous regular state.\n",
    "\n",
    "For more NEST background see [part 2 of the official PyNEST tutorial](https://nest-simulator.readthedocs.io/en/latest/tutorials/pynest_tutorial/part_2_populations_of_neurons.html)."
   ]
  },
  {
   "cell_type": "code",
   "execution_count": 1,
   "metadata": {
    "slideshow": {
     "slide_type": "subslide"
    }
   },
   "outputs": [
    {
     "name": "stdout",
     "output_type": "stream",
     "text": [
      "Populating the interactive namespace from numpy and matplotlib\n"
     ]
    }
   ],
   "source": [
    "# populate namespace with pylab functions and stuff\n",
    "%pylab inline\n",
    "# import NEST & NEST rasterplot\n",
    "import nest\n",
    "import nest.raster_plot"
   ]
  },
  {
   "cell_type": "markdown",
   "metadata": {
    "slideshow": {
     "slide_type": "slide"
    }
   },
   "source": [
    "## Set parameters"
   ]
  },
  {
   "cell_type": "code",
   "execution_count": 2,
   "metadata": {
    "slideshow": {
     "slide_type": "subslide"
    }
   },
   "outputs": [],
   "source": [
    "# simulation parameters\n",
    "simtime = 1000.            # simulation time (ms)\n",
    "dt = 0.1                   # simulation resolution (ms)"
   ]
  },
  {
   "cell_type": "code",
   "execution_count": 3,
   "metadata": {
    "slideshow": {
     "slide_type": "subslide"
    }
   },
   "outputs": [],
   "source": [
    "# network parameters\n",
    "gamma = 0.25               # relative number of inhibitory connections\n",
    "NE = 5000                  # number of excitatory neurons (10.000 in [1])\n",
    "NI = int(gamma * NE)       # number of inhibitory neurons\n",
    "N_rec = 50                 # record from 100 (50 e + 50 i) neurons\n",
    "CE = 1000                  # indegree from excitatory neurons\n",
    "CI = int(gamma * CE)       # indegree from inhibitory neurons"
   ]
  },
  {
   "cell_type": "code",
   "execution_count": 4,
   "metadata": {
    "slideshow": {
     "slide_type": "subslide"
    }
   },
   "outputs": [],
   "source": [
    "# synapse parameters\n",
    "w = 0.1                    # excitatory synaptic weight (mV)\n",
    "g = 5.                     # relative inhibitory to excitatory synaptic weight\n",
    "d = 1.5                    # synaptic transmission delay (ms)"
   ]
  },
  {
   "cell_type": "code",
   "execution_count": 5,
   "metadata": {
    "slideshow": {
     "slide_type": "subslide"
    }
   },
   "outputs": [],
   "source": [
    "# neuron paramters\n",
    "V_th = 20.                 # spike threshold (mV)\n",
    "tau_m = 20.                # membrane time constant (ms)\n",
    "neuron_params = {\n",
    "    'C_m': 1.0,            # membrane capacity (pF)\n",
    "    'E_L': 0.,             # resting membrane potential (mV)\n",
    "    'I_e': 0.,             # external input current (pA)\n",
    "    'V_m': 0.,             # membrane potential (mV)\n",
    "    'V_reset': 10.,        # reset membrane potential after a spike (mV)\n",
    "    'V_th': V_th,          #\n",
    "    't_ref': 2.0,          # refractory period (ms)\n",
    "    'tau_m': tau_m,        #\n",
    "}"
   ]
  },
  {
   "cell_type": "code",
   "execution_count": 6,
   "metadata": {
    "slideshow": {
     "slide_type": "subslide"
    }
   },
   "outputs": [],
   "source": [
    "# external input parameters\n",
    "nu_th = V_th / (w * tau_m) # external rate needed to evoke activity (spikes/ms)\n",
    "nu_ex = 2.0 * nu_th        # set external rate above threshold\n",
    "p_rate = 1e3 * nu_ex       # external rate (spikes/s)"
   ]
  },
  {
   "cell_type": "markdown",
   "metadata": {
    "slideshow": {
     "slide_type": "slide"
    }
   },
   "source": [
    "## Configure NEST"
   ]
  },
  {
   "cell_type": "code",
   "execution_count": 7,
   "metadata": {
    "slideshow": {
     "slide_type": "subslide"
    }
   },
   "outputs": [],
   "source": [
    "# configure kernel\n",
    "nest.ResetKernel()\n",
    "nest.SetKernelStatus({\n",
    "    'resolution': dt,      # set simulation resolution\n",
    "    'print_time': True,    # enable printing of simulation progress (-> terminal)\n",
    "    'local_num_threads': 2 # use two threads to build & simulate the network\n",
    "})"
   ]
  },
  {
   "cell_type": "markdown",
   "metadata": {
    "slideshow": {
     "slide_type": "slide"
    }
   },
   "source": [
    "## Create neurons and devices"
   ]
  },
  {
   "cell_type": "code",
   "execution_count": 8,
   "metadata": {
    "slideshow": {
     "slide_type": "subslide"
    }
   },
   "outputs": [],
   "source": [
    "# set default parameters for neurons and create neurons\n",
    "nest.SetDefaults('iaf_psc_delta', neuron_params)\n",
    "neurons_e = nest.Create('iaf_psc_delta', NE)\n",
    "neurons_i = nest.Create('iaf_psc_delta', NI)\n",
    "\n",
    "# create poisson generator and set 'rate' to p_rate\n",
    "pgen = nest.Create('poisson_generator', params={'rate': p_rate})\n",
    "\n",
    "# create spike detectors\n",
    "spikes_e = nest.Create('spike_detector')\n",
    "spikes_i = nest.Create('spike_detector')\n",
    "nest.SetStatus(spikes_e, [{'withtime': True,\n",
    "                           'withgid': True,\n",
    "                           'to_file': False}])\n",
    "nest.SetStatus(spikes_i, [{'withtime': True,\n",
    "                           'withgid': True,\n",
    "                           'to_file': False}])"
   ]
  },
  {
   "cell_type": "markdown",
   "metadata": {
    "slideshow": {
     "slide_type": "slide"
    }
   },
   "source": [
    "## Create connections"
   ]
  },
  {
   "cell_type": "code",
   "execution_count": 9,
   "metadata": {
    "slideshow": {
     "slide_type": "subslide"
    }
   },
   "outputs": [],
   "source": [
    "# create excitatory connections\n",
    "\n",
    "# synapse specification\n",
    "syn_exc = {'delay': d, 'weight': w}\n",
    "# connection specification\n",
    "conn_exc = {'rule': 'fixed_indegree', 'indegree': CE}\n",
    "# connect stuff\n",
    "nest.Connect(neurons_e, neurons_e, conn_exc, syn_exc)\n",
    "nest.Connect(neurons_e, neurons_i, conn_exc, syn_exc)"
   ]
  },
  {
   "cell_type": "code",
   "execution_count": 10,
   "metadata": {
    "slideshow": {
     "slide_type": "subslide"
    }
   },
   "outputs": [],
   "source": [
    "# create inhibitory connections\n",
    "\n",
    "# synapse specification\n",
    "syn_inh = {'delay': d, 'weight': - g * w}\n",
    "# connection specification\n",
    "conn_inh = {'rule': 'fixed_indegree', 'indegree': CI}\n",
    "# connect stuff\n",
    "nest.Connect(neurons_i, neurons_e, conn_inh, syn_inh)\n",
    "nest.Connect(neurons_i, neurons_i, conn_inh, syn_inh)"
   ]
  },
  {
   "cell_type": "code",
   "execution_count": 11,
   "metadata": {
    "slideshow": {
     "slide_type": "subslide"
    }
   },
   "outputs": [],
   "source": [
    "# connect poisson generator using the excitatory connection weight\n",
    "nest.Connect(pgen, neurons_i, syn_spec=syn_exc)\n",
    "nest.Connect(pgen, neurons_e, syn_spec=syn_exc)"
   ]
  },
  {
   "cell_type": "code",
   "execution_count": 12,
   "metadata": {
    "slideshow": {
     "slide_type": "-"
    }
   },
   "outputs": [],
   "source": [
    "# connect N_rec excitatory / inhibitory neurons to spike detector\n",
    "nest.Connect(neurons_e[:N_rec], spikes_e)\n",
    "nest.Connect(neurons_i[:N_rec], spikes_i)"
   ]
  },
  {
   "cell_type": "markdown",
   "metadata": {
    "slideshow": {
     "slide_type": "slide"
    }
   },
   "source": [
    "## Simulate and analyse"
   ]
  },
  {
   "cell_type": "code",
   "execution_count": 13,
   "metadata": {
    "slideshow": {
     "slide_type": "subslide"
    }
   },
   "outputs": [],
   "source": [
    "# simulate\n",
    "nest.Simulate(simtime) "
   ]
  },
  {
   "cell_type": "code",
   "execution_count": 14,
   "metadata": {
    "slideshow": {
     "slide_type": "subslide"
    }
   },
   "outputs": [
    {
     "name": "stdout",
     "output_type": "stream",
     "text": [
      "Mean firing rate: 37.52 Hz\n"
     ]
    }
   ],
   "source": [
    "# calculate mean firing rate in spikes per second\n",
    "events_ex = nest.GetStatus(spikes_e, 'n_events')[0]\n",
    "events_in = nest.GetStatus(spikes_i, 'n_events')[0]\n",
    "rate_ex = events_ex / simtime / N_rec * 1e3\n",
    "rate_in = events_in / simtime / N_rec * 1e3\n",
    "mean_rate = (rate_ex + rate_in) / 2.\n",
    "print('Mean firing rate: {} Hz'.format(mean_rate))"
   ]
  },
  {
   "cell_type": "code",
   "execution_count": 15,
   "metadata": {
    "slideshow": {
     "slide_type": "subslide"
    }
   },
   "outputs": [
    {
     "data": {
      "text/plain": [
       "[<matplotlib.lines.Line2D at 0x7f2419beae90>]"
      ]
     },
     "execution_count": 15,
     "metadata": {},
     "output_type": "execute_result"
    },
    {
     "data": {
      "image/png": "[encoded data removed]",
      "text/plain": [
       "<matplotlib.figure.Figure at 0x7f241ac256d0>"
      ]
     },
     "metadata": {
      "needs_background": "light"
     },
     "output_type": "display_data"
    },
    {
     "data": {
      "image/png": "[encoded data removed]",
      "text/plain": [
       "<matplotlib.figure.Figure at 0x7f241ac25b90>"
      ]
     },
     "metadata": {
      "needs_background": "light"
     },
     "output_type": "display_data"
    }
   ],
   "source": [
    "# raster plot of spiking activity using nest.raster_plot\n",
    "nest.raster_plot.from_device(spikes_e, hist=True)\n",
    "nest.raster_plot.from_device(spikes_i, hist=True)"
   ]
  },
  {
   "cell_type": "markdown",
   "metadata": {
    "slideshow": {
     "slide_type": "slide"
    }
   },
   "source": [
    "## Dynamical regimes"
   ]
  },
  {
   "cell_type": "markdown",
   "metadata": {
    "slideshow": {
     "slide_type": "subslide"
    }
   },
   "source": [
    "<img src=\"img/Brunel2000.png\" alt=\"sketch\" width=\"450\" align=\"left\"/>\n",
    "\n",
    "The network can be in four dynamical regimes depending on the parameters g and nu_ex (Brunel 2000, Fig. 8):\n",
    "\n",
    "(a) synchronous regular\n",
    "\n",
    "(b) synchronous irregular, fast oscillations\n",
    "\n",
    "(c) asynchronous irregular\n",
    "\n",
    "(d) synchronous irregular, slow oscillations"
   ]
  },
  {
   "cell_type": "markdown",
   "metadata": {
    "slideshow": {
     "slide_type": "subslide"
    }
   },
   "source": [
    "<img src=\"img/Brunel2000II.png\" alt=\"sketch\" width=\"350\" align=\"left\"/>\n",
    "\n",
    "This is the phase diagram of the network showing which parameters lead to a certain regime (Brunel 2000, Fig. 8).\n",
    "\n",
    "* Try to get the other four dynamical regimes in the simulation.\n",
    "* What happens if you [increase the synaptic weight](https://www.nature.com/articles/nn.3658) w in the asynchronous irregular regime?"
   ]
  },
  {
   "cell_type": "markdown",
   "metadata": {
    "slideshow": {
     "slide_type": "slide"
    }
   },
   "source": [
    "## Bored?\n",
    "\n",
    "* Check out the [official PyNEST tutorials](https://nest-simulator.readthedocs.io/en/latest/tutorials/index.html)\n",
    "* Have a look at the examples in `share/doc/nest/examples/pynest` in your NEST installation folder:\n",
    "  * Various implementations of the Brunel network: `brunel_*.py`\n",
    "  * For a more involved network see `Potjans_2014/`\n",
    "* Still bored?\n",
    "  * Start your own project\n",
    "  * Have a look at the [developer space](http://nest.github.io/nest-simulator/)\n",
    "  * Drink a coffee"
   ]
  },
  {
   "cell_type": "code",
   "execution_count": null,
   "metadata": {},
   "outputs": [],
   "source": []
  }
 ],
 "metadata": {
  "kernelspec": {
   "display_name": "Python 2",
   "language": "python",
   "name": "python2"
  },
  "language_info": {
   "codemirror_mode": {
    "name": "ipython",
    "version": 2
   },
   "file_extension": ".py",
   "mimetype": "text/x-python",
   "name": "python",
   "nbconvert_exporter": "python",
   "pygments_lexer": "ipython2",
   "version": "2.7.15+"
  }
 },
 "nbformat": 4,
 "nbformat_minor": 2
}
