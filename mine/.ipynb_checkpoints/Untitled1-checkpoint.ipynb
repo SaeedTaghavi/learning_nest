{
 "cells": [
  {
   "cell_type": "markdown",
   "metadata": {},
   "source": [
    "run this notebook with python 2"
   ]
  },
  {
   "cell_type": "markdown",
   "metadata": {},
   "source": [
    "Today, in 2017, there are several simulators for large spiking networks to choose from (Brette et al., 2007), but NEST remains the best established simulator with the the largest developer networks to choose from."
   ]
  },
  {
   "cell_type": "markdown",
   "metadata": {},
   "source": [
    "NEST is a C++ library that provides a simulation kernel, many neuron and synapse models, and the simulation language interpreter SLI. The library which links the NEST simulation language interpreter to the Python interpreter is called PyNEST (Eppler et al. 2009). The nest module must be imported in every interactive session and in every Python script in which you wish to use NEST. \n",
    "\n",
    "Importing `nest`  puts all NEST commands in the *namespace* `nest`. Consequently, all commands must be prefixed with the name of this namespace.\n",
    "\n",
    "\n"
   ]
  },
  {
   "cell_type": "code",
   "execution_count": 1,
   "metadata": {},
   "outputs": [],
   "source": [
    "import nest\n",
    "nest.ResetKernel()\n",
    "nest.SetKernelStatus({\"overwrite_files\": True})"
   ]
  },
  {
   "cell_type": "markdown",
   "metadata": {},
   "source": [
    "\n",
    "A NEST simulation consists of three main components:\n",
    "\n",
    "* **Nodes** are all neurons, devices, and also\n",
    "  sub-networks. Nodes have a dynamic state that changes over time and\n",
    "  that can be influenced by incoming *events*.\n",
    "* **Events** are pieces of information of a particular\n",
    "  type. The most common event is the spike-event. Other event types\n",
    "  are voltage events and current events.\n",
    "* **Connections** are communication channels between\n",
    "  nodes. Only if one node is connected to another node, can they\n",
    "  exchange events. Connections are weighted, directed, and specific to\n",
    "  one event type. Directed means that events can flow only in one\n",
    "  direction. The node that sends the event is called *source* and\n",
    "  the node that receives the event is called *target*. The weight\n",
    "  determines how strongly an event will influence the target node. A\n",
    "  second parameter, the *delay*, determines how long an event\n",
    "  needs to travel from source to target.\n",
    "  \n",
    "`nest.Models()` provides a list of all available node and\n",
    "connection models."
   ]
  },
  {
   "cell_type": "code",
   "execution_count": 2,
   "metadata": {},
   "outputs": [
    {
     "data": {
      "text/plain": [
       "(u'ac_generator',\n",
       " u'aeif_cond_alpha',\n",
       " u'aeif_cond_alpha_RK5',\n",
       " u'aeif_cond_alpha_multisynapse',\n",
       " u'aeif_cond_beta_multisynapse',\n",
       " u'aeif_cond_exp',\n",
       " u'aeif_psc_alpha',\n",
       " u'aeif_psc_delta',\n",
       " u'aeif_psc_exp',\n",
       " u'amat2_psc_exp',\n",
       " u'bernoulli_synapse',\n",
       " u'bernoulli_synapse_lbl',\n",
       " u'cont_delay_synapse',\n",
       " u'cont_delay_synapse_hpc',\n",
       " u'cont_delay_synapse_lbl',\n",
       " u'correlation_detector',\n",
       " u'correlomatrix_detector',\n",
       " u'correlospinmatrix_detector',\n",
       " u'dc_generator',\n",
       " u'diffusion_connection',\n",
       " u'diffusion_connection_lbl',\n",
       " u'erfc_neuron',\n",
       " u'gamma_sup_generator',\n",
       " u'gap_junction',\n",
       " u'gap_junction_lbl',\n",
       " u'gauss_rate_ipn',\n",
       " u'gif_cond_exp',\n",
       " u'gif_cond_exp_multisynapse',\n",
       " u'gif_pop_psc_exp',\n",
       " u'gif_psc_exp',\n",
       " u'gif_psc_exp_multisynapse',\n",
       " u'ginzburg_neuron',\n",
       " u'hh_cond_exp_traub',\n",
       " u'hh_psc_alpha',\n",
       " u'hh_psc_alpha_gap',\n",
       " u'ht_neuron',\n",
       " u'ht_synapse',\n",
       " u'ht_synapse_hpc',\n",
       " u'ht_synapse_lbl',\n",
       " u'iaf_chs_2007',\n",
       " u'iaf_chxk_2008',\n",
       " u'iaf_cond_alpha',\n",
       " u'iaf_cond_alpha_mc',\n",
       " u'iaf_cond_exp',\n",
       " u'iaf_cond_exp_sfa_rr',\n",
       " u'iaf_neuron',\n",
       " u'iaf_psc_alpha',\n",
       " u'iaf_psc_alpha_canon',\n",
       " u'iaf_psc_alpha_multisynapse',\n",
       " u'iaf_psc_alpha_presc',\n",
       " u'iaf_psc_delta',\n",
       " u'iaf_psc_delta_canon',\n",
       " u'iaf_psc_exp',\n",
       " u'iaf_psc_exp_multisynapse',\n",
       " u'iaf_psc_exp_ps',\n",
       " u'iaf_psc_exp_ps_lossless',\n",
       " u'iaf_tum_2000',\n",
       " u'inhomogeneous_poisson_generator',\n",
       " u'izhikevich',\n",
       " u'lin_rate_ipn',\n",
       " u'lin_rate_opn',\n",
       " u'mat2_psc_exp',\n",
       " u'mcculloch_pitts_neuron',\n",
       " u'mip_generator',\n",
       " u'multimeter',\n",
       " u'noise_generator',\n",
       " u'parrot_neuron',\n",
       " u'parrot_neuron_ps',\n",
       " u'poisson_generator',\n",
       " u'poisson_generator_ps',\n",
       " u'pp_pop_psc_delta',\n",
       " u'pp_psc_delta',\n",
       " u'ppd_sup_generator',\n",
       " u'pulsepacket_generator',\n",
       " u'quantal_stp_synapse',\n",
       " u'quantal_stp_synapse_hpc',\n",
       " u'quantal_stp_synapse_lbl',\n",
       " u'rate_connection_delayed',\n",
       " u'rate_connection_delayed_lbl',\n",
       " u'rate_connection_instantaneous',\n",
       " u'rate_connection_instantaneous_lbl',\n",
       " u'rate_transformer_gauss',\n",
       " u'rate_transformer_lin',\n",
       " u'rate_transformer_sigmoid',\n",
       " u'rate_transformer_sigmoid_gg_1998',\n",
       " u'rate_transformer_tanh',\n",
       " u'rate_transformer_threshold_lin',\n",
       " u'siegert_neuron',\n",
       " u'sigmoid_rate_gg_1998_ipn',\n",
       " u'sigmoid_rate_ipn',\n",
       " u'sinusoidal_gamma_generator',\n",
       " u'sinusoidal_poisson_generator',\n",
       " u'sli_neuron',\n",
       " u'spike_detector',\n",
       " u'spike_dilutor',\n",
       " u'spike_generator',\n",
       " u'spin_detector',\n",
       " u'static_synapse',\n",
       " u'static_synapse_hom_w',\n",
       " u'static_synapse_hom_w_hpc',\n",
       " u'static_synapse_hom_w_lbl',\n",
       " u'static_synapse_hpc',\n",
       " u'static_synapse_lbl',\n",
       " u'stdp_dopamine_synapse',\n",
       " u'stdp_dopamine_synapse_hpc',\n",
       " u'stdp_dopamine_synapse_lbl',\n",
       " u'stdp_facetshw_synapse_hom',\n",
       " u'stdp_facetshw_synapse_hom_hpc',\n",
       " u'stdp_facetshw_synapse_hom_lbl',\n",
       " u'stdp_pl_synapse_hom',\n",
       " u'stdp_pl_synapse_hom_hpc',\n",
       " u'stdp_pl_synapse_hom_lbl',\n",
       " u'stdp_synapse',\n",
       " u'stdp_synapse_hom',\n",
       " u'stdp_synapse_hom_hpc',\n",
       " u'stdp_synapse_hom_lbl',\n",
       " u'stdp_synapse_hpc',\n",
       " u'stdp_synapse_lbl',\n",
       " u'stdp_triplet_synapse',\n",
       " u'stdp_triplet_synapse_hpc',\n",
       " u'stdp_triplet_synapse_lbl',\n",
       " u'step_current_generator',\n",
       " u'subnet',\n",
       " u'tanh_rate_ipn',\n",
       " u'tanh_rate_opn',\n",
       " u'threshold_lin_rate_ipn',\n",
       " u'threshold_lin_rate_opn',\n",
       " u'topology_layer_free',\n",
       " u'topology_layer_free_3d',\n",
       " u'topology_layer_grid',\n",
       " u'topology_layer_grid_3d',\n",
       " u'tsodyks2_synapse',\n",
       " u'tsodyks2_synapse_hpc',\n",
       " u'tsodyks2_synapse_lbl',\n",
       " u'tsodyks_synapse',\n",
       " u'tsodyks_synapse_hom',\n",
       " u'tsodyks_synapse_hom_hpc',\n",
       " u'tsodyks_synapse_hom_lbl',\n",
       " u'tsodyks_synapse_hpc',\n",
       " u'tsodyks_synapse_lbl',\n",
       " u'vogels_sprekeler_synapse',\n",
       " u'vogels_sprekeler_synapse_hpc',\n",
       " u'vogels_sprekeler_synapse_lbl',\n",
       " u'voltmeter',\n",
       " u'volume_transmitter',\n",
       " u'weight_recorder')"
      ]
     },
     "execution_count": 2,
     "metadata": {},
     "output_type": "execute_result"
    }
   ],
   "source": [
    "nest.Models()"
   ]
  },
  {
   "cell_type": "markdown",
   "metadata": {},
   "source": [
    "As you see in subsequent lines, `Create` is used for all node types. The first argument, `'iaf_psc_alpha'`, is a string, denoting the type of node that you want to create. The second parameter of `Create` is an integer representing the number of nodes you want to create. Thus, whether you want one neuron or 100,000, you only need to call `Create` once. The third parameter is either a dictionary or a list of dictionaries, specifying the parameter settings for the created nodes. If only one dictionary is given, the same parameters are used for all created nodes. If an array of dictionaries is given, they are used in order and their number must match the number of created nodes."
   ]
  },
  {
   "cell_type": "markdown",
   "metadata": {},
   "source": [
    "Note that only the first parameter of `Create` is mandatory. All parameters of a model that are not set explicitly are initialized with default values. You can display them with `nest.GetDefaults(model_name)`.\n"
   ]
  },
  {
   "cell_type": "code",
   "execution_count": 3,
   "metadata": {},
   "outputs": [
    {
     "data": {
      "text/plain": [
       "{u'C_m': 250.0,\n",
       " u'Ca': 0.0,\n",
       " u'E_L': -70.0,\n",
       " u'I_e': 0.0,\n",
       " u'V_m': -70.0,\n",
       " u'V_min': -inf,\n",
       " u'V_reset': -70.0,\n",
       " u'V_th': -55.0,\n",
       " u'archiver_length': 0,\n",
       " u'available': (0,),\n",
       " u'beta_Ca': 0.001,\n",
       " u'capacity': (0,),\n",
       " u'element_type': <SLILiteral: neuron>,\n",
       " u'elementsize': 680,\n",
       " u'frozen': False,\n",
       " u'global_id': 0,\n",
       " u'instantiations': (0,),\n",
       " u'local': True,\n",
       " u'model': <SLILiteral: iaf_psc_alpha>,\n",
       " u'node_uses_wfr': False,\n",
       " u'recordables': (<SLILiteral: I_syn_ex>,\n",
       "  <SLILiteral: I_syn_in>,\n",
       "  <SLILiteral: V_m>,\n",
       "  <SLILiteral: weighted_spikes_ex>,\n",
       "  <SLILiteral: weighted_spikes_in>),\n",
       " u'supports_precise_spikes': False,\n",
       " u'synaptic_elements': {},\n",
       " u't_ref': 2.0,\n",
       " u't_spike': -1.0,\n",
       " u'tau_Ca': 10000.0,\n",
       " u'tau_m': 10.0,\n",
       " u'tau_minus': 20.0,\n",
       " u'tau_minus_triplet': 110.0,\n",
       " u'tau_syn_ex': 2.0,\n",
       " u'tau_syn_in': 2.0,\n",
       " u'thread': 0,\n",
       " u'thread_local_id': -1,\n",
       " u'type_id': <SLILiteral: iaf_psc_alpha>,\n",
       " u'vp': -1}"
      ]
     },
     "execution_count": 3,
     "metadata": {},
     "output_type": "execute_result"
    }
   ],
   "source": [
    "nest.GetDefaults('iaf_psc_alpha')"
   ]
  },
  {
   "cell_type": "code",
   "execution_count": 4,
   "metadata": {},
   "outputs": [
    {
     "data": {
      "text/plain": [
       "{u'available': (0,),\n",
       " u'binary': False,\n",
       " u'capacity': (0,),\n",
       " u'close_after_simulate': False,\n",
       " u'close_on_reset': True,\n",
       " u'element_type': <SLILiteral: recorder>,\n",
       " u'elementsize': 1040,\n",
       " u'events': {u'senders': array([], dtype=int64),\n",
       "  u'times': array([], dtype=float64)},\n",
       " u'fbuffer_size': -1,\n",
       " u'file_extension': u'gdf',\n",
       " u'flush_after_simulate': True,\n",
       " u'flush_records': False,\n",
       " u'frozen': False,\n",
       " u'global_id': 0,\n",
       " u'instantiations': (0,),\n",
       " u'label': u'',\n",
       " u'local': True,\n",
       " u'model': <SLILiteral: spike_detector>,\n",
       " u'n_events': 0,\n",
       " u'node_uses_wfr': False,\n",
       " u'origin': 0.0,\n",
       " u'precise_times': False,\n",
       " u'precision': 3,\n",
       " u'record_to': (<SLILiteral: memory>,),\n",
       " u'scientific': False,\n",
       " u'start': 0.0,\n",
       " u'stop': 1.7976931348623157e+308,\n",
       " u'supports_precise_spikes': False,\n",
       " u'thread': 0,\n",
       " u'thread_local_id': -1,\n",
       " u'time_in_steps': False,\n",
       " u'to_file': False,\n",
       " u'to_memory': True,\n",
       " u'to_screen': False,\n",
       " u'type_id': <SLILiteral: spike_detector>,\n",
       " u'use_gid_in_filename': True,\n",
       " u'vp': -1,\n",
       " u'withgid': True,\n",
       " u'withport': False,\n",
       " u'withrport': False,\n",
       " u'withtargetgid': False,\n",
       " u'withtime': True,\n",
       " u'withweight': False}"
      ]
     },
     "execution_count": 4,
     "metadata": {},
     "output_type": "execute_result"
    }
   ],
   "source": [
    "nest.GetDefaults('spike_detector')"
   ]
  },
  {
   "cell_type": "markdown",
   "metadata": {},
   "source": [
    "we use the command `Create` to produce one node of the type `iaf_psc_alpha`."
   ]
  },
  {
   "cell_type": "code",
   "execution_count": 5,
   "metadata": {},
   "outputs": [],
   "source": [
    "neuron = nest.Create('iaf_psc_alpha')\n",
    "sine = nest.Create('ac_generator', 1,\n",
    "                   {'amplitude': 100.0,\n",
    "                    'frequency': 2.0})\n",
    "noise = nest.Create('poisson_generator', 2,\n",
    "                    [{'rate': 70000.0},\n",
    "                     {'rate': 20000.0}])\n",
    "voltmeter = nest.Create('voltmeter', 1,params={\"withgid\": True,\"to_file\": True, \"label\" : \"neuron+sin+poisson\"})\n",
    "spdet = nest.Create(\"spike_detector\", params={\"to_file\": True,\"label\" : \"neuron+sin+poisson\"})\n"
   ]
  },
  {
   "cell_type": "markdown",
   "metadata": {},
   "source": [
    "`Create` returns a list of integers, the  global\n",
    "identifiers (or GID for short) of each node created. The GIDs are\n",
    "assigned in the order in which nodes are created. The first node is\n",
    "assigned GID 1, the second node GID 2, and so on."
   ]
  },
  {
   "cell_type": "code",
   "execution_count": 6,
   "metadata": {},
   "outputs": [
    {
     "name": "stdout",
     "output_type": "stream",
     "text": [
      "GID neuron: (1,)\n",
      "GID ac_generator: (2,)\n",
      "GID noises: (3, 4)\n",
      "GID voltmeter: (5,)\n",
      "GID spike detector: (6,)\n"
     ]
    }
   ],
   "source": [
    "print \"GID neuron:\",neuron\n",
    "print \"GID ac_generator:\",sine\n",
    "print \"GID noises:\",noise\n",
    "print \"GID voltmeter:\",voltmeter\n",
    "print \"GID spike detector:\",spdet"
   ]
  },
  {
   "cell_type": "markdown",
   "metadata": {},
   "source": [
    "After creating the neuron, sine and noise generators, and voltmeter, we connect the nodes. The command `Connect` takes two or more arguments. The first argument is a list of source nodes. The second argument is a list of target nodes. `Connect` iterates these two lists and connects the corresponding pairs. A node appears in the source position of `Connect` if it sends events to the target node. For example, the sine generator is in the source position because it injects an alternating current into the neuron. The voltmeter is in the source position because it polls the membrane potential of the neuron. Other devices may be in the target position, e.g., the spike detector which receives spike events from a neuron.\n",
    "\n",
    "If in doubt about the order, consult the documentation of the respective nodes using NEST's help system. For example, to read the documentation of the ac\\_generator you can type `nest.help('ac_generator')`. \n",
    "Dismiss the help by typing `q` or `ESC` key."
   ]
  },
  {
   "cell_type": "code",
   "execution_count": 7,
   "metadata": {},
   "outputs": [
    {
     "data": {
      "text/html": [
       "<style>.modal-body p { display: block;unicode-bidi: embed; font-family: monospace; white-space: pre; }</style>"
      ],
      "text/plain": [
       "<IPython.core.display.HTML object>"
      ]
     },
     "metadata": {},
     "output_type": "display_data"
    },
    {
     "data": {
      "application/javascript": [
       "\n",
       "       require(\n",
       "           [\"base/js/dialog\"],\n",
       "           function(dialog) {\n",
       "               dialog.modal({\n",
       "                   title: 'ac_generator.hlp',\n",
       "                   body: \"Name: ac_generator - provides AC input current\\n\\nDescription:\\n\\nThis device produce an ac-current which are sent by a CurrentEvent. The \\ncurrent is given by \\nI(t) = offset + amplitude * sin ( om * t + phi ) \\nwhere \\nom  = 2 * pi * frequency \\nphi = phase / 180 * pi \\nThe parameters are \\namplitude   double\\t-  Amplitude of sine current in pA \\noffset\\t double\\t-  Constant amplitude offset in pA \\nfrequency   double\\t-  Frequency in Hz \\nphase\\t double\\t-  Phase of sine current (0-360 deg) \\nSetting start and stop (see StimulatingDevice) only windows the current \\nas defined above. It does not shift the time axis.\\n\\n\\nSends:\\n\\nCurrentEvent\\n\\n\\nReferences:\\n\\n[1] S. Rotter and M. Diesmann, Exact digital simulation of time- \\ninvariant linear systems with applications to neuronal modeling, \\nBiol. Cybern. 81, 381-402 (1999)\\n\\n\\nAuthor:\\n\\nJohan Hake, Spring 2003\\n\\n\\nSeeAlso:\\n\\nDevice\\nStimulatingDevice\\ndc_generator\\nstep_current_generator\\n\\nSource:\\n\\n/home/saeed/prog/nest-simulator-2.16.0/models/ac_generator.h\\n\",\n",
       "                   buttons: {\n",
       "                       'close': {}\n",
       "                   }\n",
       "               });\n",
       "           }\n",
       "       );\n",
       "       "
      ],
      "text/plain": [
       "<IPython.core.display.Javascript object>"
      ]
     },
     "metadata": {},
     "output_type": "display_data"
    }
   ],
   "source": [
    "nest.help('ac_generator')"
   ]
  },
  {
   "cell_type": "code",
   "execution_count": 8,
   "metadata": {},
   "outputs": [
    {
     "data": {
      "text/html": [
       "<style>.modal-body p { display: block;unicode-bidi: embed; font-family: monospace; white-space: pre; }</style>"
      ],
      "text/plain": [
       "<IPython.core.display.HTML object>"
      ]
     },
     "metadata": {},
     "output_type": "display_data"
    },
    {
     "data": {
      "application/javascript": [
       "\n",
       "       require(\n",
       "           [\"base/js/dialog\"],\n",
       "           function(dialog) {\n",
       "               dialog.modal({\n",
       "                   title: 'voltmeter.hlp',\n",
       "                   body: \"Name: voltmeter - Device to record membrane potential from neurons.\\n\\nSynopsis:\\n\\nvoltmeter Create\\n\\n\\nExamples:\\n\\nSLI ] /iaf_cond_alpha Create /n Set \\nSLI ] /voltmeter Create /vm Set \\nSLI ] vm << /interval 0.5 >> SetStatus \\nSLI ] vm n Connect \\nSLI ] 10 Simulate \\nSLI ] vm /events get info \\n-------------------------------------------------- \\nName\\t Type\\t Value \\n-------------------------------------------------- \\nsenders\\t intvectortype\\t <intvectortype> \\ntimes\\t doublevectortype   <doublevectortype> \\nV_m\\t doublevectortype   <doublevectortype> \\n-------------------------------------------------- \\nTotal number of entries: 3\\n\\n\\nDescription:\\n\\nA voltmeter records the membrane potential (V_m) of connected nodes \\nto memory, file or stdout. \\nBy default, voltmeters record values once per ms. Set the parameter \\n/interval to change this. The recording interval cannot be smaller \\nthan the resolution. \\nResults are returned in the /events entry of the status dictionary, \\nwhich contains membrane potential as vector /V_m and pertaining \\ntimes as vector /times and node GIDs as /senders, if /withtime and \\n/withgid are set, respectively. \\nAccumulator mode: \\nVoltmeter can operate in accumulator mode. In this case, values for all \\nrecorded variables are added across all recorded nodes (but kept separate in \\ntime). This can be useful to record average membrane potential in a \\npopulation. \\nTo activate accumulator mode, either set /to_accumulator to true, or set \\n/record_to [ /accumulator ].  In accumulator mode, you cannot record to file, \\nto memory, to screen, with GID or with weight. You must activate accumulator \\nmode before simulating. Accumulator data is never written to file. You must \\nextract it from the device using GetStatus.\\n\\n\\nParameters:\\n\\nThe following parameter can be set in the status dictionary: \\ninterval\\t double\\t- Recording interval in ms\\n\\n\\nSends:\\n\\nDataLoggingRequest\\n\\n\\nRemarks:\\n\\n- The voltmeter model is implemented as a multimeter preconfigured to \\nrecord /V_m. \\n\\t- The set of variables to record and the recording interval must be set \\nBEFORE the voltmeter is connected to any node, and cannot be changed \\nafterwards. \\n\\t- A voltmeter cannot be frozen. \\n\\t- If you record with voltmeter in accumulator mode and some of the nodes \\nyou record from are frozen and others are not, data will only be collected \\nfrom the unfrozen nodes. Most likely, this will lead to confusing results, \\nso you should not use voltmeter with frozen nodes.\\n\\n\\nSeeAlso:\\n\\nDevice\\nRecordingDevice\\nmultimeter\\n\\nSource:\\n\\n/home/saeed/prog/nest-simulator-2.16.0/models/modelsmodule.cpp\\n\",\n",
       "                   buttons: {\n",
       "                       'close': {}\n",
       "                   }\n",
       "               });\n",
       "           }\n",
       "       );\n",
       "       "
      ],
      "text/plain": [
       "<IPython.core.display.Javascript object>"
      ]
     },
     "metadata": {},
     "output_type": "display_data"
    }
   ],
   "source": [
    "nest.help('voltmeter')"
   ]
  },
  {
   "cell_type": "markdown",
   "metadata": {},
   "source": [
    "First we connect the sine generator, the voltmeter and the spike detector to the neuron."
   ]
  },
  {
   "cell_type": "code",
   "execution_count": 9,
   "metadata": {},
   "outputs": [],
   "source": [
    "nest.Connect(sine,neuron)\n",
    "nest.Connect(voltmeter,neuron)\n",
    "nest.Connect(neuron,spdet)"
   ]
  },
  {
   "cell_type": "markdown",
   "metadata": {},
   "source": [
    "Next, we use the command `Connect` with the `syn_spec` parameter to connect the two Poisson generators to the neuron. In this example the synapse specification `syn_spec` provides only weight and delay values, in this case $\\pm 1$ pA input current amplitude and $1$ ms delay. We will see more advanced uses of  `syn_spec` below."
   ]
  },
  {
   "cell_type": "code",
   "execution_count": 10,
   "metadata": {},
   "outputs": [],
   "source": [
    "nest.Connect(noise[:1], neuron, syn_spec={'weight': 1.0, 'delay': 1.0})\n",
    "nest.Connect(noise[1:], neuron, syn_spec={'weight': -1.0, 'delay': 1.0})"
   ]
  },
  {
   "cell_type": "markdown",
   "metadata": {},
   "source": [
    "After connecting the nodes, the network is ready. We call the NEST function `Simulate` which runs the\n",
    "network for 1000 milliseconds. The function returns after the simulation is finished.\n"
   ]
  },
  {
   "cell_type": "code",
   "execution_count": 13,
   "metadata": {},
   "outputs": [],
   "source": [
    "nest.Simulate(5000.0)"
   ]
  },
  {
   "cell_type": "markdown",
   "metadata": {},
   "source": [
    "Then, function `voltage_trace` is called to plot the membrane potential of the neuron. If you are running the script for the first time, you may have to tell Python to display the figure by typing `pylab.show()`.\n",
    "\n"
   ]
  },
  {
   "cell_type": "code",
   "execution_count": 16,
   "metadata": {},
   "outputs": [
    {
     "data": {
      "image/png": "[encoded data removed]",
      "text/plain": [
       "<matplotlib.figure.Figure at 0x7fdc34d60a10>"
      ]
     },
     "metadata": {
      "needs_background": "light"
     },
     "output_type": "display_data"
    }
   ],
   "source": [
    "import nest.voltage_trace\n",
    "nest.voltage_trace.from_device(voltmeter);"
   ]
  },
  {
   "cell_type": "markdown",
   "metadata": {},
   "source": [
    "If you want to inspect how your network looks so far, you can print\n",
    "it using the command `PrintNetwork()`:"
   ]
  },
  {
   "cell_type": "code",
   "execution_count": 20,
   "metadata": {},
   "outputs": [],
   "source": [
    "nest.PrintNetwork(2)"
   ]
  },
  {
   "cell_type": "markdown",
   "metadata": {},
   "source": [
    "The input argument here is the depth to print to. Output from this function will be in the terminal, and you should get\n",
    "\n",
    "```\n",
    "+-[0] root dim=[5]\n",
    "   |\n",
    "   +-[1] iaf_psc_alpha\n",
    "   +-[2] ac_generator\n",
    "   +-[3]...[4] poisson_generator\n",
    "   +-[5] voltmeter\n",
    "```\n"
   ]
  },
  {
   "cell_type": "markdown",
   "metadata": {},
   "source": [
    "To start a new NEST session without leaving Python, you can call `nest.ResetKernel()`. This function will erase the existing network so that you can start from scratch. \n"
   ]
  },
  {
   "cell_type": "code",
   "execution_count": null,
   "metadata": {},
   "outputs": [],
   "source": []
  }
 ],
 "metadata": {
  "kernelspec": {
   "display_name": "Python 2",
   "language": "python",
   "name": "python2"
  },
  "language_info": {
   "codemirror_mode": {
    "name": "ipython",
    "version": 2
   },
   "file_extension": ".py",
   "mimetype": "text/x-python",
   "name": "python",
   "nbconvert_exporter": "python",
   "pygments_lexer": "ipython2",
   "version": "2.7.15+"
  }
 },
 "nbformat": 4,
 "nbformat_minor": 2
}
